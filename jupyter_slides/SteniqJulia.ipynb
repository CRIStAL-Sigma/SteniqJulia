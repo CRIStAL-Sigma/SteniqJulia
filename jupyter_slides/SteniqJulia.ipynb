{
 "cells": [
  {
   "cell_type": "markdown",
   "metadata": {
    "slideshow": {
     "slide_type": "skip"
    }
   },
   "source": [
    "**Add the packages used in the presentation**\n",
    "```bash\n",
    "$ pip install dppy\n",
    "```\n",
    "```bash\n",
    "$ julia\n",
    "```\n",
    "```julia\n",
    ">julia ]add MATLAB PyCall RCallRDatasets ScikitLearn LinearAlgebra PkgTemplates BenchmarkTools SharedArrays\n",
    "```\n"
   ]
  },
  {
   "cell_type": "raw",
   "metadata": {
    "slideshow": {
     "slide_type": "slide"
    }
   },
   "source": [
    "<image>\n",
    "<section data-background=\"julia_logo.png\" data-state=\"img-transparent no-title-footer\">\n",
    "<div class=\"intro-body\">\n",
    "<div class=\"intro_h1\"><h1>Steniq Julia - 01/03/2021</h1></div>\n",
    "<h3>\n",
    "<A HREF=\"https://github.com/CRIStAL-Sigma/SteniqJulia\">SteniqJulia</A>\n",
    "</h3>\n",
    "<p><strong>\n",
    "<span class=\"a\">Guillaume Gautier</span></strong> <span class=\"b\"></span>\n",
    "<span><A HREF=\"https://guilgautier.github.io/\">guilgautier</A></span>\n",
    "</p>\n",
    "<p>&nbsp;</p>\n",
    "<img src=\"julia_logo.png\" alt=\"Julia logo\" width=\"40%\" height=\"40%\">\n",
    "<p>&nbsp;</p>\n",
    "</div>\n",
    "</section>\n",
    "</image>\n"
   ]
  },
  {
   "cell_type": "markdown",
   "metadata": {
    "slideshow": {
     "slide_type": "slide"
    }
   },
   "source": [
    "# What is [Julia](https://julialang.org/)?"
   ]
  },
  {
   "cell_type": "markdown",
   "metadata": {
    "slideshow": {
     "slide_type": "subslide"
    }
   },
   "source": [
    "## Another programming language\n",
    "\n",
    "- Designed for high-performance programming 🖥️🚀\n",
    "- Free to use 🤑\n",
    "- Open-source 🤓\n",
    "\n",
    "- Creators: J. Bezanson, S. Karpinski, V. Shah and A. Edelman\n",
    "  - **Mathematicians and Computer scientists**\n",
    "- First release: 2012 👶(Python: 1991 , MATLAB 1984)👴\n",
    "\n",
    "- **Ju**pyter 🤔\n",
    "- [G. Julia](https://en.wikipedia.org/wiki/Gaston_Julia) (fractals)? No, just a random name!"
   ]
  },
  {
   "cell_type": "markdown",
   "metadata": {
    "slideshow": {
     "slide_type": "subslide"
    }
   },
   "source": [
    "## Julia's ambitions\n",
    "\n",
    "> Create an unprecedented combination of **ease-of-use, power, and efficiency in a single language**\n",
    "\n",
    "- **Speed** of ‘compiled’ languages such as Fortran and C\n",
    "- **Interactivity** and syntax of ‘scripting’ languages\n",
    "  - **usability** of Python\n",
    "  - **dynamism** of Ruby\n",
    "  - **mathematical prowess** of MATLAB\n",
    "  - **statistical chops** of R\n",
    "\n",
    "> Julia is for people who want **performance, portability, flexibility**: 👉️YOU 👈️"
   ]
  },
  {
   "cell_type": "markdown",
   "metadata": {
    "slideshow": {
     "slide_type": "subslide"
    }
   },
   "source": [
    "## Trend\n",
    "\n",
    "Young (2012) but **VERY** promising programming language! 👼\n",
    "\n",
    "- Julia creators received the [James H. Wilkinson Prize for Numerical Software](https://sinews.siam.org/Details-Page/january-prize-spotlight-jeff-bezanson-steven-l-brunton-jack-dongarra-stefan-karpinski-and-viral-b-shah) (2019)\n",
    "    > Solving the Two Language Problem in Scientific Computing and Machine Learning with Julia\n",
    "- [Forbes](https://www.forbes.com/sites/suparnadutt/2017/09/20/this-startup-created-a-new-programming-language-now-used-by-the-worlds-biggest-companies/) > How A New Programming Language [...] Now Used By The World's Biggest Companies\n",
    "- [Nature](https://www.nature.com/articles/d41586-019-02310-3) > Julia: come for the syntax, stay for the speed\n",
    "- [Big scientific projects are based on Julia](https://juliacomputing.com/case-studies/)\n",
    "  - [Parallel Supercomputing for Astronomy](https://juliacomputing.com/case-studies/celeste/)\n",
    "  - [Climate Modelling Alliance](https://clima.caltech.edu/)\n",
    "- [Julia Programming’s Dramatic Rise in HPC and Elsewhere](https://www.hpcwire.com/2020/01/14/julia-programmings-dramatic-rise-in-hpc-and-elsewhere/)\n",
    "\n",
    "See also the [Julia user developer survey](https://julialang.org/assets/2020-julia-user-developer-survey.pdf)"
   ]
  },
  {
   "cell_type": "markdown",
   "metadata": {
    "slideshow": {
     "slide_type": "subslide"
    }
   },
   "source": [
    "## As a programming language"
   ]
  },
  {
   "cell_type": "markdown",
   "metadata": {
    "slideshow": {
     "slide_type": "fragment"
    }
   },
   "source": [
    "Functional programming"
   ]
  },
  {
   "cell_type": "code",
   "execution_count": 1,
   "metadata": {
    "slideshow": {
     "slide_type": "fragment"
    }
   },
   "outputs": [
    {
     "data": {
      "text/plain": [
       "mean (generic function with 1 method)"
      ]
     },
     "execution_count": 1,
     "metadata": {},
     "output_type": "execute_result"
    }
   ],
   "source": [
    "mean(x) = sum(x) / length(x)"
   ]
  },
  {
   "cell_type": "markdown",
   "metadata": {
    "slideshow": {
     "slide_type": "fragment"
    }
   },
   "source": [
    "Object-oriented programming "
   ]
  },
  {
   "cell_type": "code",
   "execution_count": 2,
   "metadata": {
    "slideshow": {
     "slide_type": "fragment"
    }
   },
   "outputs": [
    {
     "data": {
      "text/plain": [
       "speak (generic function with 1 method)"
      ]
     },
     "execution_count": 2,
     "metadata": {},
     "output_type": "execute_result"
    }
   ],
   "source": [
    "abstract type Pet end\n",
    "struct Cat <: Pet\n",
    "    name::String\n",
    "end\n",
    "speak(::Cat) = print(\"Miaou\")"
   ]
  },
  {
   "cell_type": "code",
   "execution_count": 3,
   "metadata": {
    "slideshow": {
     "slide_type": "fragment"
    }
   },
   "outputs": [
    {
     "data": {
      "text/plain": [
       "Cat(\"Grominet\")"
      ]
     },
     "execution_count": 3,
     "metadata": {},
     "output_type": "execute_result"
    }
   ],
   "source": [
    "my_cat = Cat(\"Grominet\")"
   ]
  },
  {
   "cell_type": "code",
   "execution_count": 4,
   "metadata": {
    "slideshow": {
     "slide_type": "fragment"
    }
   },
   "outputs": [
    {
     "data": {
      "text/plain": [
       "\"Grominet\""
      ]
     },
     "execution_count": 4,
     "metadata": {},
     "output_type": "execute_result"
    }
   ],
   "source": [
    "my_cat.name"
   ]
  },
  {
   "cell_type": "code",
   "execution_count": 5,
   "metadata": {
    "slideshow": {
     "slide_type": "fragment"
    }
   },
   "outputs": [
    {
     "name": "stdout",
     "output_type": "stream",
     "text": [
      "Miaou"
     ]
    }
   ],
   "source": [
    "speak(my_cat)"
   ]
  },
  {
   "cell_type": "markdown",
   "metadata": {
    "slideshow": {
     "slide_type": "fragment"
    }
   },
   "source": [
    "Just In Time (JIT) compilation"
   ]
  },
  {
   "cell_type": "code",
   "execution_count": 6,
   "metadata": {
    "slideshow": {
     "slide_type": "fragment"
    }
   },
   "outputs": [
    {
     "name": "stdout",
     "output_type": "stream",
     "text": [
      "  0.040411 seconds (75.43 k allocations: 3.938 MiB)\n"
     ]
    },
    {
     "data": {
      "text/plain": [
       "0.5033922297144101"
      ]
     },
     "execution_count": 6,
     "metadata": {},
     "output_type": "execute_result"
    }
   ],
   "source": [
    "x = rand(1_000)\n",
    "@time mean(x)"
   ]
  },
  {
   "cell_type": "code",
   "execution_count": 7,
   "metadata": {
    "slideshow": {
     "slide_type": "fragment"
    }
   },
   "outputs": [
    {
     "name": "stdout",
     "output_type": "stream",
     "text": [
      "  0.000004 seconds (1 allocation: 16 bytes)\n"
     ]
    },
    {
     "data": {
      "text/plain": [
       "0.5033922297144101"
      ]
     },
     "execution_count": 7,
     "metadata": {},
     "output_type": "execute_result"
    }
   ],
   "source": [
    "@time mean(x)"
   ]
  },
  {
   "cell_type": "code",
   "execution_count": 8,
   "metadata": {
    "slideshow": {
     "slide_type": "fragment"
    }
   },
   "outputs": [
    {
     "name": "stdout",
     "output_type": "stream",
     "text": [
      "  0.000004 seconds (1 allocation: 16 bytes)\n"
     ]
    },
    {
     "data": {
      "text/plain": [
       "0.49169801972309757"
      ]
     },
     "execution_count": 8,
     "metadata": {},
     "output_type": "execute_result"
    }
   ],
   "source": [
    "x = rand(1_000)\n",
    "@time mean(x)"
   ]
  },
  {
   "cell_type": "markdown",
   "metadata": {
    "slideshow": {
     "slide_type": "fragment"
    }
   },
   "source": [
    "**Optional** typing\n",
    "\n",
    "```julia\n",
    "mean(x::Vector)::Number = ...\n",
    "```\n",
    "\n",
    "- readability\n",
    "- debugging"
   ]
  },
  {
   "cell_type": "markdown",
   "metadata": {
    "slideshow": {
     "slide_type": "fragment"
    }
   },
   "source": [
    "Multiple dispatch\n",
    "\n",
    "[Watch S. Karpinski's talk](https://www.youtube.com/watch?v=kc9HwsxE1OY)\n",
    "\n",
    "> The Unreasonable Effectiveness of Multiple Dispatch"
   ]
  },
  {
   "cell_type": "code",
   "execution_count": 9,
   "metadata": {
    "slideshow": {
     "slide_type": "fragment"
    }
   },
   "outputs": [
    {
     "data": {
      "text/html": [
       "# 184 methods for generic function <b>+</b>:<ul><li> +(dt::<b>Dates.DateTime</b>, z::<b>Dates.Month</b>) in Dates at <a href=\"file:///Users/julia/buildbot/worker/package_macos64/build/usr/share/julia/stdlib/v1.5/Dates/src/arithmetic.jl\" target=\"_blank\">/Applications/Julia-1.5.app/Contents/Resources/julia/share/julia/stdlib/v1.5/Dates/src/arithmetic.jl:47</a></li> <li> +(dt::<b>Dates.DateTime</b>, y::<b>Dates.Year</b>) in Dates at <a href=\"file:///Users/julia/buildbot/worker/package_macos64/build/usr/share/julia/stdlib/v1.5/Dates/src/arithmetic.jl\" target=\"_blank\">/Applications/Julia-1.5.app/Contents/Resources/julia/share/julia/stdlib/v1.5/Dates/src/arithmetic.jl:23</a></li> <li> +(x::<b>Dates.DateTime</b>, y::<b>Dates.Period</b>) in Dates at <a href=\"file:///Users/julia/buildbot/worker/package_macos64/build/usr/share/julia/stdlib/v1.5/Dates/src/arithmetic.jl\" target=\"_blank\">/Applications/Julia-1.5.app/Contents/Resources/julia/share/julia/stdlib/v1.5/Dates/src/arithmetic.jl:76</a></li> <li> +(z::<b>Complex{Bool}</b>, x::<b>Bool</b>) in Base at <a href=\"https://github.com/JuliaLang/julia/tree/539f3ce943f59dec8aff3f2238b083f1b27f41e5/base/complex.jl#L287\" target=\"_blank\">complex.jl:287</a></li> <li> +(z::<b>Complex{Bool}</b>, x::<b>Real</b>) in Base at <a href=\"https://github.com/JuliaLang/julia/tree/539f3ce943f59dec8aff3f2238b083f1b27f41e5/base/complex.jl#L301\" target=\"_blank\">complex.jl:301</a></li> <li> +(c::<b>BigInt</b>, x::<b>BigFloat</b>) in Base.MPFR at <a href=\"https://github.com/JuliaLang/julia/tree/539f3ce943f59dec8aff3f2238b083f1b27f41e5/base/mpfr.jl#L399\" target=\"_blank\">mpfr.jl:399</a></li> <li> +(a::<b>BigInt</b>, b::<b>BigInt</b>, c::<b>BigInt</b>, d::<b>BigInt</b>, e::<b>BigInt</b>) in Base.GMP at <a href=\"https://github.com/JuliaLang/julia/tree/539f3ce943f59dec8aff3f2238b083f1b27f41e5/base/gmp.jl#L518\" target=\"_blank\">gmp.jl:518</a></li> <li> +(a::<b>BigInt</b>, b::<b>BigInt</b>, c::<b>BigInt</b>, d::<b>BigInt</b>) in Base.GMP at <a href=\"https://github.com/JuliaLang/julia/tree/539f3ce943f59dec8aff3f2238b083f1b27f41e5/base/gmp.jl#L517\" target=\"_blank\">gmp.jl:517</a></li> <li> +(a::<b>BigInt</b>, b::<b>BigInt</b>, c::<b>BigInt</b>) in Base.GMP at <a href=\"https://github.com/JuliaLang/julia/tree/539f3ce943f59dec8aff3f2238b083f1b27f41e5/base/gmp.jl#L516\" target=\"_blank\">gmp.jl:516</a></li> <li> +(x::<b>BigInt</b>, y::<b>BigInt</b>) in Base.GMP at <a href=\"https://github.com/JuliaLang/julia/tree/539f3ce943f59dec8aff3f2238b083f1b27f41e5/base/gmp.jl#L476\" target=\"_blank\">gmp.jl:476</a></li> <li> +(x::<b>BigInt</b>, c::<b>Union{UInt16, UInt32, UInt64, UInt8}</b>) in Base.GMP at <a href=\"https://github.com/JuliaLang/julia/tree/539f3ce943f59dec8aff3f2238b083f1b27f41e5/base/gmp.jl#L524\" target=\"_blank\">gmp.jl:524</a></li> <li> +(x::<b>BigInt</b>, c::<b>Union{Int16, Int32, Int64, Int8}</b>) in Base.GMP at <a href=\"https://github.com/JuliaLang/julia/tree/539f3ce943f59dec8aff3f2238b083f1b27f41e5/base/gmp.jl#L530\" target=\"_blank\">gmp.jl:530</a></li> <li> +(level::<b>Base.CoreLogging.LogLevel</b>, inc::<b>Integer</b>) in Base.CoreLogging at <a href=\"https://github.com/JuliaLang/julia/tree/539f3ce943f59dec8aff3f2238b083f1b27f41e5/base/logging.jl#L116\" target=\"_blank\">logging.jl:116</a></li> <li> +(B::<b>BitArray{2}</b>, J::<b>LinearAlgebra.UniformScaling</b>) in LinearAlgebra at <a href=\"file:///Users/julia/buildbot/worker/package_macos64/build/usr/share/julia/stdlib/v1.5/LinearAlgebra/src/uniformscaling.jl\" target=\"_blank\">/Applications/Julia-1.5.app/Contents/Resources/julia/share/julia/stdlib/v1.5/LinearAlgebra/src/uniformscaling.jl:117</a></li> <li> +(::<b>Missing</b>, ::<b>Missing</b>) in Base at <a href=\"https://github.com/JuliaLang/julia/tree/539f3ce943f59dec8aff3f2238b083f1b27f41e5/base/missing.jl#L114\" target=\"_blank\">missing.jl:114</a></li> <li> +(::<b>Missing</b>) in Base at <a href=\"https://github.com/JuliaLang/julia/tree/539f3ce943f59dec8aff3f2238b083f1b27f41e5/base/missing.jl#L100\" target=\"_blank\">missing.jl:100</a></li> <li> +(::<b>Missing</b>, ::<b>Number</b>) in Base at <a href=\"https://github.com/JuliaLang/julia/tree/539f3ce943f59dec8aff3f2238b083f1b27f41e5/base/missing.jl#L115\" target=\"_blank\">missing.jl:115</a></li> <li> +(x::<b>Float64</b>, y::<b>Float64</b>) in Base at <a href=\"https://github.com/JuliaLang/julia/tree/539f3ce943f59dec8aff3f2238b083f1b27f41e5/base/float.jl#L401\" target=\"_blank\">float.jl:401</a></li> <li> +(x::<b>Bool</b>, z::<b>Complex{Bool}</b>) in Base at <a href=\"https://github.com/JuliaLang/julia/tree/539f3ce943f59dec8aff3f2238b083f1b27f41e5/base/complex.jl#L286\" target=\"_blank\">complex.jl:286</a></li> <li> +(x::<b>Bool</b>, y::<b>Bool</b>) in Base at <a href=\"https://github.com/JuliaLang/julia/tree/539f3ce943f59dec8aff3f2238b083f1b27f41e5/base/bool.jl#L96\" target=\"_blank\">bool.jl:96</a></li> <li> +(x::<b>Bool</b>) in Base at <a href=\"https://github.com/JuliaLang/julia/tree/539f3ce943f59dec8aff3f2238b083f1b27f41e5/base/bool.jl#L93\" target=\"_blank\">bool.jl:93</a></li> <li> +(x::<b>Bool</b>, y::<b>T</b>)<i> where T<:AbstractFloat</i> in Base at <a href=\"https://github.com/JuliaLang/julia/tree/539f3ce943f59dec8aff3f2238b083f1b27f41e5/base/bool.jl#L103\" target=\"_blank\">bool.jl:103</a></li> <li> +(x::<b>Bool</b>, z::<b>Complex</b>) in Base at <a href=\"https://github.com/JuliaLang/julia/tree/539f3ce943f59dec8aff3f2238b083f1b27f41e5/base/complex.jl#L293\" target=\"_blank\">complex.jl:293</a></li> <li> +(x::<b>Dates.Date</b>, y::<b>Dates.Day</b>) in Dates at <a href=\"file:///Users/julia/buildbot/worker/package_macos64/build/usr/share/julia/stdlib/v1.5/Dates/src/arithmetic.jl\" target=\"_blank\">/Applications/Julia-1.5.app/Contents/Resources/julia/share/julia/stdlib/v1.5/Dates/src/arithmetic.jl:74</a></li> <li> +(x::<b>Dates.Date</b>, y::<b>Dates.Week</b>) in Dates at <a href=\"file:///Users/julia/buildbot/worker/package_macos64/build/usr/share/julia/stdlib/v1.5/Dates/src/arithmetic.jl\" target=\"_blank\">/Applications/Julia-1.5.app/Contents/Resources/julia/share/julia/stdlib/v1.5/Dates/src/arithmetic.jl:72</a></li> <li> +(dt::<b>Dates.Date</b>, z::<b>Dates.Month</b>) in Dates at <a href=\"file:///Users/julia/buildbot/worker/package_macos64/build/usr/share/julia/stdlib/v1.5/Dates/src/arithmetic.jl\" target=\"_blank\">/Applications/Julia-1.5.app/Contents/Resources/julia/share/julia/stdlib/v1.5/Dates/src/arithmetic.jl:54</a></li> <li> +(dt::<b>Dates.Date</b>, y::<b>Dates.Year</b>) in Dates at <a href=\"file:///Users/julia/buildbot/worker/package_macos64/build/usr/share/julia/stdlib/v1.5/Dates/src/arithmetic.jl\" target=\"_blank\">/Applications/Julia-1.5.app/Contents/Resources/julia/share/julia/stdlib/v1.5/Dates/src/arithmetic.jl:27</a></li> <li> +(dt::<b>Dates.Date</b>, t::<b>Dates.Time</b>) in Dates at <a href=\"file:///Users/julia/buildbot/worker/package_macos64/build/usr/share/julia/stdlib/v1.5/Dates/src/arithmetic.jl\" target=\"_blank\">/Applications/Julia-1.5.app/Contents/Resources/julia/share/julia/stdlib/v1.5/Dates/src/arithmetic.jl:19</a></li> <li> +(a::<b>Pkg.Resolve.VersionWeight</b>, b::<b>Pkg.Resolve.VersionWeight</b>) in Pkg.Resolve at <a href=\"file:///Users/julia/buildbot/worker/package_macos64/build/usr/share/julia/stdlib/v1.5/Pkg/src/Resolve/versionweights.jl\" target=\"_blank\">/Applications/Julia-1.5.app/Contents/Resources/julia/share/julia/stdlib/v1.5/Pkg/src/Resolve/versionweights.jl:22</a></li> <li> +(a::<b>Pkg.Resolve.FieldValue</b>, b::<b>Pkg.Resolve.FieldValue</b>) in Pkg.Resolve at <a href=\"file:///Users/julia/buildbot/worker/package_macos64/build/usr/share/julia/stdlib/v1.5/Pkg/src/Resolve/fieldvalues.jl\" target=\"_blank\">/Applications/Julia-1.5.app/Contents/Resources/julia/share/julia/stdlib/v1.5/Pkg/src/Resolve/fieldvalues.jl:43</a></li> <li> +(t::<b>Dates.Time</b>, dt::<b>Dates.Date</b>) in Dates at <a href=\"file:///Users/julia/buildbot/worker/package_macos64/build/usr/share/julia/stdlib/v1.5/Dates/src/arithmetic.jl\" target=\"_blank\">/Applications/Julia-1.5.app/Contents/Resources/julia/share/julia/stdlib/v1.5/Dates/src/arithmetic.jl:20</a></li> <li> +(x::<b>Dates.Time</b>, y::<b>Dates.TimePeriod</b>) in Dates at <a href=\"file:///Users/julia/buildbot/worker/package_macos64/build/usr/share/julia/stdlib/v1.5/Dates/src/arithmetic.jl\" target=\"_blank\">/Applications/Julia-1.5.app/Contents/Resources/julia/share/julia/stdlib/v1.5/Dates/src/arithmetic.jl:78</a></li> <li> +(a::<b>BigFloat</b>, b::<b>BigFloat</b>, c::<b>BigFloat</b>, d::<b>BigFloat</b>, e::<b>BigFloat</b>) in Base.MPFR at <a href=\"https://github.com/JuliaLang/julia/tree/539f3ce943f59dec8aff3f2238b083f1b27f41e5/base/mpfr.jl#L548\" target=\"_blank\">mpfr.jl:548</a></li> <li> +(a::<b>BigFloat</b>, b::<b>BigFloat</b>, c::<b>BigFloat</b>, d::<b>BigFloat</b>) in Base.MPFR at <a href=\"https://github.com/JuliaLang/julia/tree/539f3ce943f59dec8aff3f2238b083f1b27f41e5/base/mpfr.jl#L541\" target=\"_blank\">mpfr.jl:541</a></li> <li> +(a::<b>BigFloat</b>, b::<b>BigFloat</b>, c::<b>BigFloat</b>) in Base.MPFR at <a href=\"https://github.com/JuliaLang/julia/tree/539f3ce943f59dec8aff3f2238b083f1b27f41e5/base/mpfr.jl#L535\" target=\"_blank\">mpfr.jl:535</a></li> <li> +(x::<b>BigFloat</b>, c::<b>BigInt</b>) in Base.MPFR at <a href=\"https://github.com/JuliaLang/julia/tree/539f3ce943f59dec8aff3f2238b083f1b27f41e5/base/mpfr.jl#L394\" target=\"_blank\">mpfr.jl:394</a></li> <li> +(x::<b>BigFloat</b>, y::<b>BigFloat</b>) in Base.MPFR at <a href=\"https://github.com/JuliaLang/julia/tree/539f3ce943f59dec8aff3f2238b083f1b27f41e5/base/mpfr.jl#L363\" target=\"_blank\">mpfr.jl:363</a></li> <li> +(x::<b>BigFloat</b>, c::<b>Union{UInt16, UInt32, UInt64, UInt8}</b>) in Base.MPFR at <a href=\"https://github.com/JuliaLang/julia/tree/539f3ce943f59dec8aff3f2238b083f1b27f41e5/base/mpfr.jl#L370\" target=\"_blank\">mpfr.jl:370</a></li> <li> +(x::<b>BigFloat</b>, c::<b>Union{Int16, Int32, Int64, Int8}</b>) in Base.MPFR at <a href=\"https://github.com/JuliaLang/julia/tree/539f3ce943f59dec8aff3f2238b083f1b27f41e5/base/mpfr.jl#L378\" target=\"_blank\">mpfr.jl:378</a></li> <li> +(x::<b>BigFloat</b>, c::<b>Union{Float16, Float32, Float64}</b>) in Base.MPFR at <a href=\"https://github.com/JuliaLang/julia/tree/539f3ce943f59dec8aff3f2238b083f1b27f41e5/base/mpfr.jl#L386\" target=\"_blank\">mpfr.jl:386</a></li> <li> +(a::<b>Float16</b>, b::<b>Float16</b>) in Base at <a href=\"https://github.com/JuliaLang/julia/tree/539f3ce943f59dec8aff3f2238b083f1b27f41e5/base/float.jl#L398\" target=\"_blank\">float.jl:398</a></li> <li> +(x::<b>Float32</b>, y::<b>Float32</b>) in Base at <a href=\"https://github.com/JuliaLang/julia/tree/539f3ce943f59dec8aff3f2238b083f1b27f41e5/base/float.jl#L400\" target=\"_blank\">float.jl:400</a></li> <li> +(x::<b>Dates.CompoundPeriod</b>, y::<b>Dates.CompoundPeriod</b>) in Dates at <a href=\"file:///Users/julia/buildbot/worker/package_macos64/build/usr/share/julia/stdlib/v1.5/Dates/src/periods.jl\" target=\"_blank\">/Applications/Julia-1.5.app/Contents/Resources/julia/share/julia/stdlib/v1.5/Dates/src/periods.jl:347</a></li> <li> +(x::<b>Dates.CompoundPeriod</b>, y::<b>Dates.Period</b>) in Dates at <a href=\"file:///Users/julia/buildbot/worker/package_macos64/build/usr/share/julia/stdlib/v1.5/Dates/src/periods.jl\" target=\"_blank\">/Applications/Julia-1.5.app/Contents/Resources/julia/share/julia/stdlib/v1.5/Dates/src/periods.jl:345</a></li> <li> +(x::<b>Dates.CompoundPeriod</b>, y::<b>Dates.TimeType</b>) in Dates at <a href=\"file:///Users/julia/buildbot/worker/package_macos64/build/usr/share/julia/stdlib/v1.5/Dates/src/periods.jl\" target=\"_blank\">/Applications/Julia-1.5.app/Contents/Resources/julia/share/julia/stdlib/v1.5/Dates/src/periods.jl:375</a></li> <li> +(y::<b>AbstractFloat</b>, x::<b>Bool</b>) in Base at <a href=\"https://github.com/JuliaLang/julia/tree/539f3ce943f59dec8aff3f2238b083f1b27f41e5/base/bool.jl#L106\" target=\"_blank\">bool.jl:106</a></li> <li> +(x::<b>T</b>, y::<b>T</b>)<i> where T<:Union{Int128, Int16, Int32, Int64, Int8, UInt128, UInt16, UInt32, UInt64, UInt8}</i> in Base at <a href=\"https://github.com/JuliaLang/julia/tree/539f3ce943f59dec8aff3f2238b083f1b27f41e5/base/int.jl#L86\" target=\"_blank\">int.jl:86</a></li> <li> +(c::<b>Union{UInt16, UInt32, UInt64, UInt8}</b>, x::<b>BigInt</b>) in Base.GMP at <a href=\"https://github.com/JuliaLang/julia/tree/539f3ce943f59dec8aff3f2238b083f1b27f41e5/base/gmp.jl#L525\" target=\"_blank\">gmp.jl:525</a></li> <li> +(c::<b>Union{Int16, Int32, Int64, Int8}</b>, x::<b>BigInt</b>) in Base.GMP at <a href=\"https://github.com/JuliaLang/julia/tree/539f3ce943f59dec8aff3f2238b083f1b27f41e5/base/gmp.jl#L531\" target=\"_blank\">gmp.jl:531</a></li> <li> +(a::<b>Integer</b>, b::<b>Integer</b>) in Base at <a href=\"https://github.com/JuliaLang/julia/tree/539f3ce943f59dec8aff3f2238b083f1b27f41e5/base/int.jl#L918\" target=\"_blank\">int.jl:918</a></li> <li> +(x::<b>Integer</b>, y::<b>Ptr</b>) in Base at <a href=\"https://github.com/JuliaLang/julia/tree/539f3ce943f59dec8aff3f2238b083f1b27f41e5/base/pointer.jl#L161\" target=\"_blank\">pointer.jl:161</a></li> <li> +(z::<b>Complex</b>) in Base at <a href=\"https://github.com/JuliaLang/julia/tree/539f3ce943f59dec8aff3f2238b083f1b27f41e5/base/complex.jl#L273\" target=\"_blank\">complex.jl:273</a></li> <li> +(z::<b>Complex</b>, w::<b>Complex</b>) in Base at <a href=\"https://github.com/JuliaLang/julia/tree/539f3ce943f59dec8aff3f2238b083f1b27f41e5/base/complex.jl#L275\" target=\"_blank\">complex.jl:275</a></li> <li> +(z::<b>Complex</b>, x::<b>Bool</b>) in Base at <a href=\"https://github.com/JuliaLang/julia/tree/539f3ce943f59dec8aff3f2238b083f1b27f41e5/base/complex.jl#L294\" target=\"_blank\">complex.jl:294</a></li> <li> +(x::<b>Rational</b>) in Base at <a href=\"https://github.com/JuliaLang/julia/tree/539f3ce943f59dec8aff3f2238b083f1b27f41e5/base/rational.jl#L266\" target=\"_blank\">rational.jl:266</a></li> <li> +(x::<b>Real</b>, z::<b>Complex{Bool}</b>) in Base at <a href=\"https://github.com/JuliaLang/julia/tree/539f3ce943f59dec8aff3f2238b083f1b27f41e5/base/complex.jl#L300\" target=\"_blank\">complex.jl:300</a></li> <li> +(x::<b>Real</b>, z::<b>Complex</b>) in Base at <a href=\"https://github.com/JuliaLang/julia/tree/539f3ce943f59dec8aff3f2238b083f1b27f41e5/base/complex.jl#L312\" target=\"_blank\">complex.jl:312</a></li> <li> +(z::<b>Complex</b>, x::<b>Real</b>) in Base at <a href=\"https://github.com/JuliaLang/julia/tree/539f3ce943f59dec8aff3f2238b083f1b27f41e5/base/complex.jl#L313\" target=\"_blank\">complex.jl:313</a></li> <li> +(x::<b>Rational</b>, y::<b>Rational</b>) in Base at <a href=\"https://github.com/JuliaLang/julia/tree/539f3ce943f59dec8aff3f2238b083f1b27f41e5/base/rational.jl#L282\" target=\"_blank\">rational.jl:282</a></li> <li> +(x::<b>Rational</b>, y::<b>Integer</b>) in Base at <a href=\"https://github.com/JuliaLang/julia/tree/539f3ce943f59dec8aff3f2238b083f1b27f41e5/base/rational.jl#L287\" target=\"_blank\">rational.jl:287</a></li> <li> +(y::<b>Integer</b>, x::<b>Rational</b>) in Base at <a href=\"https://github.com/JuliaLang/julia/tree/539f3ce943f59dec8aff3f2238b083f1b27f41e5/base/rational.jl#L294\" target=\"_blank\">rational.jl:294</a></li> <li> +(x::<b>Integer</b>, y::<b>AbstractChar</b>) in Base at <a href=\"https://github.com/JuliaLang/julia/tree/539f3ce943f59dec8aff3f2238b083f1b27f41e5/base/char.jl#L224\" target=\"_blank\">char.jl:224</a></li> <li> +(c::<b>Union{UInt16, UInt32, UInt64, UInt8}</b>, x::<b>BigFloat</b>) in Base.MPFR at <a href=\"https://github.com/JuliaLang/julia/tree/539f3ce943f59dec8aff3f2238b083f1b27f41e5/base/mpfr.jl#L375\" target=\"_blank\">mpfr.jl:375</a></li> <li> +(c::<b>Union{Int16, Int32, Int64, Int8}</b>, x::<b>BigFloat</b>) in Base.MPFR at <a href=\"https://github.com/JuliaLang/julia/tree/539f3ce943f59dec8aff3f2238b083f1b27f41e5/base/mpfr.jl#L383\" target=\"_blank\">mpfr.jl:383</a></li> <li> +(c::<b>Union{Float16, Float32, Float64}</b>, x::<b>BigFloat</b>) in Base.MPFR at <a href=\"https://github.com/JuliaLang/julia/tree/539f3ce943f59dec8aff3f2238b083f1b27f41e5/base/mpfr.jl#L391\" target=\"_blank\">mpfr.jl:391</a></li> <li> +(x::<b>AbstractIrrational</b>, y::<b>AbstractIrrational</b>) in Base at <a href=\"https://github.com/JuliaLang/julia/tree/539f3ce943f59dec8aff3f2238b083f1b27f41e5/base/irrationals.jl#L156\" target=\"_blank\">irrationals.jl:156</a></li> <li> +(x::<b>Number</b>) in Base at <a href=\"https://github.com/JuliaLang/julia/tree/539f3ce943f59dec8aff3f2238b083f1b27f41e5/base/operators.jl#L513\" target=\"_blank\">operators.jl:513</a></li> <li> +(x::<b>T</b>, y::<b>T</b>)<i> where T<:Number</i> in Base at <a href=\"https://github.com/JuliaLang/julia/tree/539f3ce943f59dec8aff3f2238b083f1b27f41e5/base/promotion.jl#L384\" target=\"_blank\">promotion.jl:384</a></li> <li> +(x::<b>Number</b>, y::<b>Number</b>) in Base at <a href=\"https://github.com/JuliaLang/julia/tree/539f3ce943f59dec8aff3f2238b083f1b27f41e5/base/promotion.jl#L311\" target=\"_blank\">promotion.jl:311</a></li> <li> +(r1::<b>OrdinalRange</b>, r2::<b>OrdinalRange</b>) in Base at <a href=\"https://github.com/JuliaLang/julia/tree/539f3ce943f59dec8aff3f2238b083f1b27f41e5/base/range.jl#L1055\" target=\"_blank\">range.jl:1055</a></li> <li> +(r1::<b>LinRange{T}</b>, r2::<b>LinRange{T}</b>)<i> where T</i> in Base at <a href=\"https://github.com/JuliaLang/julia/tree/539f3ce943f59dec8aff3f2238b083f1b27f41e5/base/range.jl#L1062\" target=\"_blank\">range.jl:1062</a></li> <li> +(r1::<b>StepRangeLen{T,R,S} where S</b>, r2::<b>StepRangeLen{T,R,S} where S</b>)<i> where {R<:Base.TwicePrecision, T}</i> in Base at <a href=\"https://github.com/JuliaLang/julia/tree/539f3ce943f59dec8aff3f2238b083f1b27f41e5/base/twiceprecision.jl#L577\" target=\"_blank\">twiceprecision.jl:577</a></li> <li> +(r1::<b>StepRangeLen{T,S,S1} where S1</b>, r2::<b>StepRangeLen{T,S,S1} where S1</b>)<i> where {T, S}</i> in Base at <a href=\"https://github.com/JuliaLang/julia/tree/539f3ce943f59dec8aff3f2238b083f1b27f41e5/base/range.jl#L1078\" target=\"_blank\">range.jl:1078</a></li> <li> +(r1::<b>Union{LinRange, OrdinalRange, StepRangeLen}</b>, r2::<b>Union{LinRange, OrdinalRange, StepRangeLen}</b>) in Base at <a href=\"https://github.com/JuliaLang/julia/tree/539f3ce943f59dec8aff3f2238b083f1b27f41e5/base/range.jl#L1071\" target=\"_blank\">range.jl:1071</a></li> <li> +(x::<b>Ptr</b>, y::<b>Integer</b>) in Base at <a href=\"https://github.com/JuliaLang/julia/tree/539f3ce943f59dec8aff3f2238b083f1b27f41e5/base/pointer.jl#L159\" target=\"_blank\">pointer.jl:159</a></li> <li> +(x::<b>Base.TwicePrecision</b>, y::<b>Number</b>) in Base at <a href=\"https://github.com/JuliaLang/julia/tree/539f3ce943f59dec8aff3f2238b083f1b27f41e5/base/twiceprecision.jl#L267\" target=\"_blank\">twiceprecision.jl:267</a></li> <li> +(x::<b>Number</b>, y::<b>Base.TwicePrecision</b>) in Base at <a href=\"https://github.com/JuliaLang/julia/tree/539f3ce943f59dec8aff3f2238b083f1b27f41e5/base/twiceprecision.jl#L271\" target=\"_blank\">twiceprecision.jl:271</a></li> <li> +(x::<b>Base.TwicePrecision{T}</b>, y::<b>Base.TwicePrecision{T}</b>)<i> where T</i> in Base at <a href=\"https://github.com/JuliaLang/julia/tree/539f3ce943f59dec8aff3f2238b083f1b27f41e5/base/twiceprecision.jl#L273\" target=\"_blank\">twiceprecision.jl:273</a></li> <li> +(x::<b>Base.TwicePrecision</b>, y::<b>Base.TwicePrecision</b>) in Base at <a href=\"https://github.com/JuliaLang/julia/tree/539f3ce943f59dec8aff3f2238b083f1b27f41e5/base/twiceprecision.jl#L278\" target=\"_blank\">twiceprecision.jl:278</a></li> <li> +(A::<b>Array</b>, Bs::<b>Array...</b>) in Base at <a href=\"https://github.com/JuliaLang/julia/tree/539f3ce943f59dec8aff3f2238b083f1b27f41e5/base/arraymath.jl#L43\" target=\"_blank\">arraymath.jl:43</a></li> <li> +(A::<b>BitArray</b>, B::<b>BitArray</b>) in Base at <a href=\"https://github.com/JuliaLang/julia/tree/539f3ce943f59dec8aff3f2238b083f1b27f41e5/base/bitarray.jl#L1110\" target=\"_blank\">bitarray.jl:1110</a></li> <li> +(r::<b>AbstractRange{var\"#s828\"} where var\"#s828\"<:Dates.TimeType</b>, x::<b>Dates.Period</b>) in Dates at <a href=\"file:///Users/julia/buildbot/worker/package_macos64/build/usr/share/julia/stdlib/v1.5/Dates/src/ranges.jl\" target=\"_blank\">/Applications/Julia-1.5.app/Contents/Resources/julia/share/julia/stdlib/v1.5/Dates/src/ranges.jl:59</a></li> <li> +(A::<b>Array</b>, B::<b>SparseArrays.AbstractSparseMatrixCSC</b>) in SparseArrays at <a href=\"file:///Users/julia/buildbot/worker/package_macos64/build/usr/share/julia/stdlib/v1.5/SparseArrays/src/sparsematrix.jl\" target=\"_blank\">/Applications/Julia-1.5.app/Contents/Resources/julia/share/julia/stdlib/v1.5/SparseArrays/src/sparsematrix.jl:1683</a></li> <li> +(x::<b>StridedArray{var\"#s828\", N} where N where var\"#s828\"<:Union{Dates.CompoundPeriod, Dates.Period}</b>) in Dates at <a href=\"file:///Users/julia/buildbot/worker/package_macos64/build/usr/share/julia/stdlib/v1.5/Dates/src/deprecated.jl\" target=\"_blank\">/Applications/Julia-1.5.app/Contents/Resources/julia/share/julia/stdlib/v1.5/Dates/src/deprecated.jl:55</a></li> <li> +(x::<b>StridedArray{var\"#s828\", N} where N where var\"#s828\"<:Union{Dates.CompoundPeriod, Dates.Period}</b>, y::<b>Dates.TimeType</b>) in Dates at <a href=\"file:///Users/julia/buildbot/worker/package_macos64/build/usr/share/julia/stdlib/v1.5/Dates/src/deprecated.jl\" target=\"_blank\">/Applications/Julia-1.5.app/Contents/Resources/julia/share/julia/stdlib/v1.5/Dates/src/deprecated.jl:10</a></li> <li> +(X::<b>StridedArray{var\"#s828\", N} where N where var\"#s828\"<:Union{Dates.CompoundPeriod, Dates.Period}</b>, Y::<b>StridedArray{var\"#s827\", N} where N where var\"#s827\"<:Union{Dates.CompoundPeriod, Dates.Period}</b>) in Dates at <a href=\"file:///Users/julia/buildbot/worker/package_macos64/build/usr/share/julia/stdlib/v1.5/Dates/src/deprecated.jl\" target=\"_blank\">/Applications/Julia-1.5.app/Contents/Resources/julia/share/julia/stdlib/v1.5/Dates/src/deprecated.jl:62</a></li> <li> +(A::<b>LinearAlgebra.SymTridiagonal</b>, B::<b>LinearAlgebra.SymTridiagonal</b>) in LinearAlgebra at <a href=\"file:///Users/julia/buildbot/worker/package_macos64/build/usr/share/julia/stdlib/v1.5/LinearAlgebra/src/tridiag.jl\" target=\"_blank\">/Applications/Julia-1.5.app/Contents/Resources/julia/share/julia/stdlib/v1.5/LinearAlgebra/src/tridiag.jl:205</a></li> <li> +(A::<b>LinearAlgebra.Tridiagonal</b>, B::<b>LinearAlgebra.Tridiagonal</b>) in LinearAlgebra at <a href=\"file:///Users/julia/buildbot/worker/package_macos64/build/usr/share/julia/stdlib/v1.5/LinearAlgebra/src/tridiag.jl\" target=\"_blank\">/Applications/Julia-1.5.app/Contents/Resources/julia/share/julia/stdlib/v1.5/LinearAlgebra/src/tridiag.jl:732</a></li> <li> +(A::<b>LinearAlgebra.UpperTriangular</b>, B::<b>LinearAlgebra.UpperTriangular</b>) in LinearAlgebra at <a href=\"file:///Users/julia/buildbot/worker/package_macos64/build/usr/share/julia/stdlib/v1.5/LinearAlgebra/src/triangular.jl\" target=\"_blank\">/Applications/Julia-1.5.app/Contents/Resources/julia/share/julia/stdlib/v1.5/LinearAlgebra/src/triangular.jl:659</a></li> <li> +(A::<b>LinearAlgebra.LowerTriangular</b>, B::<b>LinearAlgebra.LowerTriangular</b>) in LinearAlgebra at <a href=\"file:///Users/julia/buildbot/worker/package_macos64/build/usr/share/julia/stdlib/v1.5/LinearAlgebra/src/triangular.jl\" target=\"_blank\">/Applications/Julia-1.5.app/Contents/Resources/julia/share/julia/stdlib/v1.5/LinearAlgebra/src/triangular.jl:660</a></li> <li> +(A::<b>LinearAlgebra.UpperTriangular</b>, B::<b>LinearAlgebra.UnitUpperTriangular</b>) in LinearAlgebra at <a href=\"file:///Users/julia/buildbot/worker/package_macos64/build/usr/share/julia/stdlib/v1.5/LinearAlgebra/src/triangular.jl\" target=\"_blank\">/Applications/Julia-1.5.app/Contents/Resources/julia/share/julia/stdlib/v1.5/LinearAlgebra/src/triangular.jl:661</a></li> <li> +(A::<b>LinearAlgebra.LowerTriangular</b>, B::<b>LinearAlgebra.UnitLowerTriangular</b>) in LinearAlgebra at <a href=\"file:///Users/julia/buildbot/worker/package_macos64/build/usr/share/julia/stdlib/v1.5/LinearAlgebra/src/triangular.jl\" target=\"_blank\">/Applications/Julia-1.5.app/Contents/Resources/julia/share/julia/stdlib/v1.5/LinearAlgebra/src/triangular.jl:662</a></li> <li> +(A::<b>LinearAlgebra.UnitUpperTriangular</b>, B::<b>LinearAlgebra.UpperTriangular</b>) in LinearAlgebra at <a href=\"file:///Users/julia/buildbot/worker/package_macos64/build/usr/share/julia/stdlib/v1.5/LinearAlgebra/src/triangular.jl\" target=\"_blank\">/Applications/Julia-1.5.app/Contents/Resources/julia/share/julia/stdlib/v1.5/LinearAlgebra/src/triangular.jl:663</a></li> <li> +(A::<b>LinearAlgebra.UnitLowerTriangular</b>, B::<b>LinearAlgebra.LowerTriangular</b>) in LinearAlgebra at <a href=\"file:///Users/julia/buildbot/worker/package_macos64/build/usr/share/julia/stdlib/v1.5/LinearAlgebra/src/triangular.jl\" target=\"_blank\">/Applications/Julia-1.5.app/Contents/Resources/julia/share/julia/stdlib/v1.5/LinearAlgebra/src/triangular.jl:664</a></li> <li> +(A::<b>LinearAlgebra.UnitUpperTriangular</b>, B::<b>LinearAlgebra.UnitUpperTriangular</b>) in LinearAlgebra at <a href=\"file:///Users/julia/buildbot/worker/package_macos64/build/usr/share/julia/stdlib/v1.5/LinearAlgebra/src/triangular.jl\" target=\"_blank\">/Applications/Julia-1.5.app/Contents/Resources/julia/share/julia/stdlib/v1.5/LinearAlgebra/src/triangular.jl:665</a></li> <li> +(A::<b>LinearAlgebra.UnitLowerTriangular</b>, B::<b>LinearAlgebra.UnitLowerTriangular</b>) in LinearAlgebra at <a href=\"file:///Users/julia/buildbot/worker/package_macos64/build/usr/share/julia/stdlib/v1.5/LinearAlgebra/src/triangular.jl\" target=\"_blank\">/Applications/Julia-1.5.app/Contents/Resources/julia/share/julia/stdlib/v1.5/LinearAlgebra/src/triangular.jl:666</a></li> <li> +(A::<b>LinearAlgebra.AbstractTriangular</b>, B::<b>LinearAlgebra.AbstractTriangular</b>) in LinearAlgebra at <a href=\"file:///Users/julia/buildbot/worker/package_macos64/build/usr/share/julia/stdlib/v1.5/LinearAlgebra/src/triangular.jl\" target=\"_blank\">/Applications/Julia-1.5.app/Contents/Resources/julia/share/julia/stdlib/v1.5/LinearAlgebra/src/triangular.jl:667</a></li> <li> +(A::<b>LinearAlgebra.Hermitian</b>, B::<b>LinearAlgebra.Hermitian</b>) in LinearAlgebra at <a href=\"file:///Users/julia/buildbot/worker/package_macos64/build/usr/share/julia/stdlib/v1.5/LinearAlgebra/src/symmetric.jl\" target=\"_blank\">/Applications/Julia-1.5.app/Contents/Resources/julia/share/julia/stdlib/v1.5/LinearAlgebra/src/symmetric.jl:466</a></li> <li> +(A::<b>LinearAlgebra.Symmetric</b>, B::<b>LinearAlgebra.Symmetric</b>) in LinearAlgebra at <a href=\"file:///Users/julia/buildbot/worker/package_macos64/build/usr/share/julia/stdlib/v1.5/LinearAlgebra/src/symmetric.jl\" target=\"_blank\">/Applications/Julia-1.5.app/Contents/Resources/julia/share/julia/stdlib/v1.5/LinearAlgebra/src/symmetric.jl:466</a></li> <li> +(A::<b>LinearAlgebra.Hermitian{var\"#s816\",var\"#s815\"} where var\"#s815\"<:(SparseArrays.AbstractSparseArray{Tv,Ti,2} where Ti where Tv) where var\"#s816\"</b>, B::<b>LinearAlgebra.Symmetric{var\"#s814\",var\"#s813\"} where var\"#s813\"<:(SparseArrays.AbstractSparseArray{Tv,Ti,2} where Ti where Tv) where var\"#s814\"<:Real</b>) in SparseArrays at <a href=\"file:///Users/julia/buildbot/worker/package_macos64/build/usr/share/julia/stdlib/v1.5/SparseArrays/src/linalg.jl\" target=\"_blank\">/Applications/Julia-1.5.app/Contents/Resources/julia/share/julia/stdlib/v1.5/SparseArrays/src/linalg.jl:24</a></li> <li> +(A::<b>LinearAlgebra.Hermitian</b>, B::<b>LinearAlgebra.Symmetric{var\"#s828\",S} where S<:(AbstractArray{var\"#s8281\",2} where var\"#s8281\"<:var\"#s828\") where var\"#s828\"<:Real</b>) in LinearAlgebra at <a href=\"file:///Users/julia/buildbot/worker/package_macos64/build/usr/share/julia/stdlib/v1.5/LinearAlgebra/src/symmetric.jl\" target=\"_blank\">/Applications/Julia-1.5.app/Contents/Resources/julia/share/julia/stdlib/v1.5/LinearAlgebra/src/symmetric.jl:480</a></li> <li> +(A::<b>LinearAlgebra.Symmetric{var\"#s820\",var\"#s819\"} where var\"#s819\"<:(SparseArrays.AbstractSparseArray{Tv,Ti,2} where Ti where Tv) where var\"#s820\"<:Real</b>, B::<b>LinearAlgebra.Hermitian{var\"#s818\",var\"#s817\"} where var\"#s817\"<:(SparseArrays.AbstractSparseArray{Tv,Ti,2} where Ti where Tv) where var\"#s818\"</b>) in SparseArrays at <a href=\"file:///Users/julia/buildbot/worker/package_macos64/build/usr/share/julia/stdlib/v1.5/SparseArrays/src/linalg.jl\" target=\"_blank\">/Applications/Julia-1.5.app/Contents/Resources/julia/share/julia/stdlib/v1.5/SparseArrays/src/linalg.jl:23</a></li> <li> +(A::<b>LinearAlgebra.Symmetric{var\"#s827\",S} where S<:(AbstractArray{var\"#s828\",2} where var\"#s828\"<:var\"#s827\") where var\"#s827\"<:Real</b>, B::<b>LinearAlgebra.Hermitian</b>) in LinearAlgebra at <a href=\"file:///Users/julia/buildbot/worker/package_macos64/build/usr/share/julia/stdlib/v1.5/LinearAlgebra/src/symmetric.jl\" target=\"_blank\">/Applications/Julia-1.5.app/Contents/Resources/julia/share/julia/stdlib/v1.5/LinearAlgebra/src/symmetric.jl:481</a></li> <li> +(Da::<b>LinearAlgebra.Diagonal</b>, Db::<b>LinearAlgebra.Diagonal</b>) in LinearAlgebra at <a href=\"file:///Users/julia/buildbot/worker/package_macos64/build/usr/share/julia/stdlib/v1.5/LinearAlgebra/src/diagonal.jl\" target=\"_blank\">/Applications/Julia-1.5.app/Contents/Resources/julia/share/julia/stdlib/v1.5/LinearAlgebra/src/diagonal.jl:156</a></li> <li> +(D::<b>LinearAlgebra.Diagonal</b>, S::<b>LinearAlgebra.Symmetric</b>) in LinearAlgebra at <a href=\"file:///Users/julia/buildbot/worker/package_macos64/build/usr/share/julia/stdlib/v1.5/LinearAlgebra/src/diagonal.jl\" target=\"_blank\">/Applications/Julia-1.5.app/Contents/Resources/julia/share/julia/stdlib/v1.5/LinearAlgebra/src/diagonal.jl:160</a></li> <li> +(S::<b>LinearAlgebra.Symmetric</b>, D::<b>LinearAlgebra.Diagonal</b>) in LinearAlgebra at <a href=\"file:///Users/julia/buildbot/worker/package_macos64/build/usr/share/julia/stdlib/v1.5/LinearAlgebra/src/diagonal.jl\" target=\"_blank\">/Applications/Julia-1.5.app/Contents/Resources/julia/share/julia/stdlib/v1.5/LinearAlgebra/src/diagonal.jl:163</a></li> <li> +(D::<b>LinearAlgebra.Diagonal{var\"#s828\",V} where V<:AbstractArray{var\"#s828\",1} where var\"#s828\"<:Real</b>, H::<b>LinearAlgebra.Hermitian</b>) in LinearAlgebra at <a href=\"file:///Users/julia/buildbot/worker/package_macos64/build/usr/share/julia/stdlib/v1.5/LinearAlgebra/src/diagonal.jl\" target=\"_blank\">/Applications/Julia-1.5.app/Contents/Resources/julia/share/julia/stdlib/v1.5/LinearAlgebra/src/diagonal.jl:166</a></li> <li> +(H::<b>LinearAlgebra.Hermitian</b>, D::<b>LinearAlgebra.Diagonal{var\"#s828\",V} where V<:AbstractArray{var\"#s828\",1} where var\"#s828\"<:Real</b>) in LinearAlgebra at <a href=\"file:///Users/julia/buildbot/worker/package_macos64/build/usr/share/julia/stdlib/v1.5/LinearAlgebra/src/diagonal.jl\" target=\"_blank\">/Applications/Julia-1.5.app/Contents/Resources/julia/share/julia/stdlib/v1.5/LinearAlgebra/src/diagonal.jl:169</a></li> <li> +(A::<b>LinearAlgebra.Bidiagonal</b>, B::<b>LinearAlgebra.Bidiagonal</b>) in LinearAlgebra at <a href=\"file:///Users/julia/buildbot/worker/package_macos64/build/usr/share/julia/stdlib/v1.5/LinearAlgebra/src/bidiag.jl\" target=\"_blank\">/Applications/Julia-1.5.app/Contents/Resources/julia/share/julia/stdlib/v1.5/LinearAlgebra/src/bidiag.jl:347</a></li> <li> +(UL::<b>LinearAlgebra.UnitUpperTriangular</b>, J::<b>LinearAlgebra.UniformScaling</b>) in LinearAlgebra at <a href=\"file:///Users/julia/buildbot/worker/package_macos64/build/usr/share/julia/stdlib/v1.5/LinearAlgebra/src/uniformscaling.jl\" target=\"_blank\">/Applications/Julia-1.5.app/Contents/Resources/julia/share/julia/stdlib/v1.5/LinearAlgebra/src/uniformscaling.jl:147</a></li> <li> +(UL::<b>LinearAlgebra.UnitLowerTriangular</b>, J::<b>LinearAlgebra.UniformScaling</b>) in LinearAlgebra at <a href=\"file:///Users/julia/buildbot/worker/package_macos64/build/usr/share/julia/stdlib/v1.5/LinearAlgebra/src/uniformscaling.jl\" target=\"_blank\">/Applications/Julia-1.5.app/Contents/Resources/julia/share/julia/stdlib/v1.5/LinearAlgebra/src/uniformscaling.jl:147</a></li> <li> +(A::<b>LinearAlgebra.Hermitian</b>, J::<b>LinearAlgebra.UniformScaling{var\"#s828\"} where var\"#s828\"<:Complex</b>) in LinearAlgebra at <a href=\"file:///Users/julia/buildbot/worker/package_macos64/build/usr/share/julia/stdlib/v1.5/LinearAlgebra/src/uniformscaling.jl\" target=\"_blank\">/Applications/Julia-1.5.app/Contents/Resources/julia/share/julia/stdlib/v1.5/LinearAlgebra/src/uniformscaling.jl:161</a></li> <li> +(H::<b>LinearAlgebra.UpperHessenberg</b>, J::<b>LinearAlgebra.UniformScaling</b>) in LinearAlgebra at <a href=\"file:///Users/julia/buildbot/worker/package_macos64/build/usr/share/julia/stdlib/v1.5/LinearAlgebra/src/hessenberg.jl\" target=\"_blank\">/Applications/Julia-1.5.app/Contents/Resources/julia/share/julia/stdlib/v1.5/LinearAlgebra/src/hessenberg.jl:106</a></li> <li> +(A::<b>LinearAlgebra.Tridiagonal{var\"#s828\",V} where V<:AbstractArray{var\"#s828\",1} where var\"#s828\"<:Number</b>, B::<b>LinearAlgebra.UniformScaling</b>) in LinearAlgebra at <a href=\"file:///Users/julia/buildbot/worker/package_macos64/build/usr/share/julia/stdlib/v1.5/LinearAlgebra/src/special.jl\" target=\"_blank\">/Applications/Julia-1.5.app/Contents/Resources/julia/share/julia/stdlib/v1.5/LinearAlgebra/src/special.jl:226</a></li> <li> +(A::<b>LinearAlgebra.SymTridiagonal{var\"#s828\",V} where V<:AbstractArray{var\"#s828\",1} where var\"#s828\"<:Number</b>, B::<b>LinearAlgebra.UniformScaling</b>) in LinearAlgebra at <a href=\"file:///Users/julia/buildbot/worker/package_macos64/build/usr/share/julia/stdlib/v1.5/LinearAlgebra/src/special.jl\" target=\"_blank\">/Applications/Julia-1.5.app/Contents/Resources/julia/share/julia/stdlib/v1.5/LinearAlgebra/src/special.jl:231</a></li> <li> +(A::<b>LinearAlgebra.Bidiagonal{var\"#s828\",V} where V<:AbstractArray{var\"#s828\",1} where var\"#s828\"<:Number</b>, B::<b>LinearAlgebra.UniformScaling</b>) in LinearAlgebra at <a href=\"file:///Users/julia/buildbot/worker/package_macos64/build/usr/share/julia/stdlib/v1.5/LinearAlgebra/src/special.jl\" target=\"_blank\">/Applications/Julia-1.5.app/Contents/Resources/julia/share/julia/stdlib/v1.5/LinearAlgebra/src/special.jl:236</a></li> <li> +(A::<b>LinearAlgebra.Diagonal{var\"#s828\",V} where V<:AbstractArray{var\"#s828\",1} where var\"#s828\"<:Number</b>, B::<b>LinearAlgebra.UniformScaling</b>) in LinearAlgebra at <a href=\"file:///Users/julia/buildbot/worker/package_macos64/build/usr/share/julia/stdlib/v1.5/LinearAlgebra/src/special.jl\" target=\"_blank\">/Applications/Julia-1.5.app/Contents/Resources/julia/share/julia/stdlib/v1.5/LinearAlgebra/src/special.jl:241</a></li> <li> +(A::<b>SparseArrays.AbstractSparseMatrixCSC</b>, J::<b>LinearAlgebra.UniformScaling</b>) in SparseArrays at <a href=\"file:///Users/julia/buildbot/worker/package_macos64/build/usr/share/julia/stdlib/v1.5/SparseArrays/src/sparsematrix.jl\" target=\"_blank\">/Applications/Julia-1.5.app/Contents/Resources/julia/share/julia/stdlib/v1.5/SparseArrays/src/sparsematrix.jl:3641</a></li> <li> +(A::<b>AbstractArray{T,2} where T</b>, J::<b>LinearAlgebra.UniformScaling</b>) in LinearAlgebra at <a href=\"file:///Users/julia/buildbot/worker/package_macos64/build/usr/share/julia/stdlib/v1.5/LinearAlgebra/src/uniformscaling.jl\" target=\"_blank\">/Applications/Julia-1.5.app/Contents/Resources/julia/share/julia/stdlib/v1.5/LinearAlgebra/src/uniformscaling.jl:180</a></li> <li> +(A::<b>LinearAlgebra.UpperHessenberg</b>, B::<b>LinearAlgebra.UpperHessenberg</b>) in LinearAlgebra at <a href=\"file:///Users/julia/buildbot/worker/package_macos64/build/usr/share/julia/stdlib/v1.5/LinearAlgebra/src/hessenberg.jl\" target=\"_blank\">/Applications/Julia-1.5.app/Contents/Resources/julia/share/julia/stdlib/v1.5/LinearAlgebra/src/hessenberg.jl:101</a></li> <li> +(A::<b>LinearAlgebra.UpperTriangular</b>, B::<b>LinearAlgebra.Bidiagonal</b>) in LinearAlgebra at <a href=\"file:///Users/julia/buildbot/worker/package_macos64/build/usr/share/julia/stdlib/v1.5/LinearAlgebra/src/special.jl\" target=\"_blank\">/Applications/Julia-1.5.app/Contents/Resources/julia/share/julia/stdlib/v1.5/LinearAlgebra/src/special.jl:86</a></li> <li> +(A::<b>LinearAlgebra.Bidiagonal</b>, B::<b>LinearAlgebra.UpperTriangular</b>) in LinearAlgebra at <a href=\"file:///Users/julia/buildbot/worker/package_macos64/build/usr/share/julia/stdlib/v1.5/LinearAlgebra/src/special.jl\" target=\"_blank\">/Applications/Julia-1.5.app/Contents/Resources/julia/share/julia/stdlib/v1.5/LinearAlgebra/src/special.jl:94</a></li> <li> +(A::<b>LinearAlgebra.UnitUpperTriangular</b>, B::<b>LinearAlgebra.Bidiagonal</b>) in LinearAlgebra at <a href=\"file:///Users/julia/buildbot/worker/package_macos64/build/usr/share/julia/stdlib/v1.5/LinearAlgebra/src/special.jl\" target=\"_blank\">/Applications/Julia-1.5.app/Contents/Resources/julia/share/julia/stdlib/v1.5/LinearAlgebra/src/special.jl:86</a></li> <li> +(A::<b>LinearAlgebra.Bidiagonal</b>, B::<b>LinearAlgebra.UnitUpperTriangular</b>) in LinearAlgebra at <a href=\"file:///Users/julia/buildbot/worker/package_macos64/build/usr/share/julia/stdlib/v1.5/LinearAlgebra/src/special.jl\" target=\"_blank\">/Applications/Julia-1.5.app/Contents/Resources/julia/share/julia/stdlib/v1.5/LinearAlgebra/src/special.jl:94</a></li> <li> +(A::<b>LinearAlgebra.LowerTriangular</b>, B::<b>LinearAlgebra.Bidiagonal</b>) in LinearAlgebra at <a href=\"file:///Users/julia/buildbot/worker/package_macos64/build/usr/share/julia/stdlib/v1.5/LinearAlgebra/src/special.jl\" target=\"_blank\">/Applications/Julia-1.5.app/Contents/Resources/julia/share/julia/stdlib/v1.5/LinearAlgebra/src/special.jl:86</a></li> <li> +(A::<b>LinearAlgebra.Bidiagonal</b>, B::<b>LinearAlgebra.LowerTriangular</b>) in LinearAlgebra at <a href=\"file:///Users/julia/buildbot/worker/package_macos64/build/usr/share/julia/stdlib/v1.5/LinearAlgebra/src/special.jl\" target=\"_blank\">/Applications/Julia-1.5.app/Contents/Resources/julia/share/julia/stdlib/v1.5/LinearAlgebra/src/special.jl:94</a></li> <li> +(A::<b>LinearAlgebra.UnitLowerTriangular</b>, B::<b>LinearAlgebra.Bidiagonal</b>) in LinearAlgebra at <a href=\"file:///Users/julia/buildbot/worker/package_macos64/build/usr/share/julia/stdlib/v1.5/LinearAlgebra/src/special.jl\" target=\"_blank\">/Applications/Julia-1.5.app/Contents/Resources/julia/share/julia/stdlib/v1.5/LinearAlgebra/src/special.jl:86</a></li> <li> +(A::<b>LinearAlgebra.Bidiagonal</b>, B::<b>LinearAlgebra.UnitLowerTriangular</b>) in LinearAlgebra at <a href=\"file:///Users/julia/buildbot/worker/package_macos64/build/usr/share/julia/stdlib/v1.5/LinearAlgebra/src/special.jl\" target=\"_blank\">/Applications/Julia-1.5.app/Contents/Resources/julia/share/julia/stdlib/v1.5/LinearAlgebra/src/special.jl:94</a></li> <li> +(A::<b>LinearAlgebra.Bidiagonal</b>, B::<b>LinearAlgebra.Diagonal</b>) in LinearAlgebra at <a href=\"file:///Users/julia/buildbot/worker/package_macos64/build/usr/share/julia/stdlib/v1.5/LinearAlgebra/src/special.jl\" target=\"_blank\">/Applications/Julia-1.5.app/Contents/Resources/julia/share/julia/stdlib/v1.5/LinearAlgebra/src/special.jl:115</a></li> <li> +(A::<b>LinearAlgebra.Diagonal</b>, B::<b>LinearAlgebra.Bidiagonal</b>) in LinearAlgebra at <a href=\"file:///Users/julia/buildbot/worker/package_macos64/build/usr/share/julia/stdlib/v1.5/LinearAlgebra/src/special.jl\" target=\"_blank\">/Applications/Julia-1.5.app/Contents/Resources/julia/share/julia/stdlib/v1.5/LinearAlgebra/src/special.jl:125</a></li> <li> +(A::<b>LinearAlgebra.Diagonal</b>, B::<b>LinearAlgebra.SymTridiagonal</b>) in LinearAlgebra at <a href=\"file:///Users/julia/buildbot/worker/package_macos64/build/usr/share/julia/stdlib/v1.5/LinearAlgebra/src/special.jl\" target=\"_blank\">/Applications/Julia-1.5.app/Contents/Resources/julia/share/julia/stdlib/v1.5/LinearAlgebra/src/special.jl:135</a></li> <li> +(A::<b>LinearAlgebra.SymTridiagonal</b>, B::<b>LinearAlgebra.Diagonal</b>) in LinearAlgebra at <a href=\"file:///Users/julia/buildbot/worker/package_macos64/build/usr/share/julia/stdlib/v1.5/LinearAlgebra/src/special.jl\" target=\"_blank\">/Applications/Julia-1.5.app/Contents/Resources/julia/share/julia/stdlib/v1.5/LinearAlgebra/src/special.jl:145</a></li> <li> +(A::<b>LinearAlgebra.Tridiagonal</b>, B::<b>LinearAlgebra.SymTridiagonal</b>) in LinearAlgebra at <a href=\"file:///Users/julia/buildbot/worker/package_macos64/build/usr/share/julia/stdlib/v1.5/LinearAlgebra/src/special.jl\" target=\"_blank\">/Applications/Julia-1.5.app/Contents/Resources/julia/share/julia/stdlib/v1.5/LinearAlgebra/src/special.jl:157</a></li> <li> +(A::<b>LinearAlgebra.SymTridiagonal</b>, B::<b>LinearAlgebra.Tridiagonal</b>) in LinearAlgebra at <a href=\"file:///Users/julia/buildbot/worker/package_macos64/build/usr/share/julia/stdlib/v1.5/LinearAlgebra/src/special.jl\" target=\"_blank\">/Applications/Julia-1.5.app/Contents/Resources/julia/share/julia/stdlib/v1.5/LinearAlgebra/src/special.jl:159</a></li> <li> +(A::<b>LinearAlgebra.Diagonal</b>, B::<b>LinearAlgebra.Tridiagonal</b>) in LinearAlgebra at <a href=\"file:///Users/julia/buildbot/worker/package_macos64/build/usr/share/julia/stdlib/v1.5/LinearAlgebra/src/special.jl\" target=\"_blank\">/Applications/Julia-1.5.app/Contents/Resources/julia/share/julia/stdlib/v1.5/LinearAlgebra/src/special.jl:163</a></li> <li> +(A::<b>LinearAlgebra.Tridiagonal</b>, B::<b>LinearAlgebra.Diagonal</b>) in LinearAlgebra at <a href=\"file:///Users/julia/buildbot/worker/package_macos64/build/usr/share/julia/stdlib/v1.5/LinearAlgebra/src/special.jl\" target=\"_blank\">/Applications/Julia-1.5.app/Contents/Resources/julia/share/julia/stdlib/v1.5/LinearAlgebra/src/special.jl:173</a></li> <li> +(A::<b>LinearAlgebra.Bidiagonal</b>, B::<b>LinearAlgebra.Tridiagonal</b>) in LinearAlgebra at <a href=\"file:///Users/julia/buildbot/worker/package_macos64/build/usr/share/julia/stdlib/v1.5/LinearAlgebra/src/special.jl\" target=\"_blank\">/Applications/Julia-1.5.app/Contents/Resources/julia/share/julia/stdlib/v1.5/LinearAlgebra/src/special.jl:183</a></li> <li> +(A::<b>LinearAlgebra.Tridiagonal</b>, B::<b>LinearAlgebra.Bidiagonal</b>) in LinearAlgebra at <a href=\"file:///Users/julia/buildbot/worker/package_macos64/build/usr/share/julia/stdlib/v1.5/LinearAlgebra/src/special.jl\" target=\"_blank\">/Applications/Julia-1.5.app/Contents/Resources/julia/share/julia/stdlib/v1.5/LinearAlgebra/src/special.jl:193</a></li> <li> +(A::<b>LinearAlgebra.Bidiagonal</b>, B::<b>LinearAlgebra.SymTridiagonal</b>) in LinearAlgebra at <a href=\"file:///Users/julia/buildbot/worker/package_macos64/build/usr/share/julia/stdlib/v1.5/LinearAlgebra/src/special.jl\" target=\"_blank\">/Applications/Julia-1.5.app/Contents/Resources/julia/share/julia/stdlib/v1.5/LinearAlgebra/src/special.jl:203</a></li> <li> +(A::<b>LinearAlgebra.SymTridiagonal</b>, B::<b>LinearAlgebra.Bidiagonal</b>) in LinearAlgebra at <a href=\"file:///Users/julia/buildbot/worker/package_macos64/build/usr/share/julia/stdlib/v1.5/LinearAlgebra/src/special.jl\" target=\"_blank\">/Applications/Julia-1.5.app/Contents/Resources/julia/share/julia/stdlib/v1.5/LinearAlgebra/src/special.jl:213</a></li> <li> +(A::<b>SparseArrays.AbstractSparseMatrixCSC</b>, B::<b>SparseArrays.AbstractSparseMatrixCSC</b>) in SparseArrays at <a href=\"file:///Users/julia/buildbot/worker/package_macos64/build/usr/share/julia/stdlib/v1.5/SparseArrays/src/sparsematrix.jl\" target=\"_blank\">/Applications/Julia-1.5.app/Contents/Resources/julia/share/julia/stdlib/v1.5/SparseArrays/src/sparsematrix.jl:1679</a></li> <li> +(A::<b>SparseArrays.AbstractSparseMatrixCSC</b>, B::<b>Array</b>) in SparseArrays at <a href=\"file:///Users/julia/buildbot/worker/package_macos64/build/usr/share/julia/stdlib/v1.5/SparseArrays/src/sparsematrix.jl\" target=\"_blank\">/Applications/Julia-1.5.app/Contents/Resources/julia/share/julia/stdlib/v1.5/SparseArrays/src/sparsematrix.jl:1682</a></li> <li> +(x::<b>SparseArrays.AbstractSparseArray{Tv,Ti,1} where Ti where Tv</b>, y::<b>SparseArrays.AbstractSparseArray{Tv,Ti,1} where Ti where Tv</b>) in SparseArrays at <a href=\"file:///Users/julia/buildbot/worker/package_macos64/build/usr/share/julia/stdlib/v1.5/SparseArrays/src/sparsevector.jl\" target=\"_blank\">/Applications/Julia-1.5.app/Contents/Resources/julia/share/julia/stdlib/v1.5/SparseArrays/src/sparsevector.jl:1302</a></li> <li> +(A::<b>SparseArrays.AbstractSparseArray{Tv,Ti,2} where Ti where Tv</b>, B::<b>LinearAlgebra.Hermitian{var\"#s828\",var\"#s827\"} where var\"#s827\"<:(SparseArrays.AbstractSparseArray{Tv,Ti,2} where Ti where Tv) where var\"#s828\"</b>) in SparseArrays at <a href=\"file:///Users/julia/buildbot/worker/package_macos64/build/usr/share/julia/stdlib/v1.5/SparseArrays/src/linalg.jl\" target=\"_blank\">/Applications/Julia-1.5.app/Contents/Resources/julia/share/julia/stdlib/v1.5/SparseArrays/src/linalg.jl:12</a></li> <li> +(A::<b>LinearAlgebra.Hermitian{var\"#s826\",var\"#s825\"} where var\"#s825\"<:(SparseArrays.AbstractSparseArray{Tv,Ti,2} where Ti where Tv) where var\"#s826\"</b>, B::<b>SparseArrays.AbstractSparseArray{Tv,Ti,2} where Ti where Tv</b>) in SparseArrays at <a href=\"file:///Users/julia/buildbot/worker/package_macos64/build/usr/share/julia/stdlib/v1.5/SparseArrays/src/linalg.jl\" target=\"_blank\">/Applications/Julia-1.5.app/Contents/Resources/julia/share/julia/stdlib/v1.5/SparseArrays/src/linalg.jl:13</a></li> <li> +(A::<b>SparseArrays.AbstractSparseArray{Tv,Ti,2} where Ti where Tv</b>, B::<b>LinearAlgebra.Hermitian</b>) in SparseArrays at <a href=\"file:///Users/julia/buildbot/worker/package_macos64/build/usr/share/julia/stdlib/v1.5/SparseArrays/src/linalg.jl\" target=\"_blank\">/Applications/Julia-1.5.app/Contents/Resources/julia/share/julia/stdlib/v1.5/SparseArrays/src/linalg.jl:15</a></li> <li> +(A::<b>LinearAlgebra.Hermitian</b>, B::<b>SparseArrays.AbstractSparseArray{Tv,Ti,2} where Ti where Tv</b>) in SparseArrays at <a href=\"file:///Users/julia/buildbot/worker/package_macos64/build/usr/share/julia/stdlib/v1.5/SparseArrays/src/linalg.jl\" target=\"_blank\">/Applications/Julia-1.5.app/Contents/Resources/julia/share/julia/stdlib/v1.5/SparseArrays/src/linalg.jl:16</a></li> <li> +(A::<b>SparseArrays.AbstractSparseArray{Tv,Ti,2} where Ti where Tv</b>, B::<b>LinearAlgebra.Symmetric{var\"#s828\",var\"#s827\"} where var\"#s827\"<:(SparseArrays.AbstractSparseArray{Tv,Ti,2} where Ti where Tv) where var\"#s828\"</b>) in SparseArrays at <a href=\"file:///Users/julia/buildbot/worker/package_macos64/build/usr/share/julia/stdlib/v1.5/SparseArrays/src/linalg.jl\" target=\"_blank\">/Applications/Julia-1.5.app/Contents/Resources/julia/share/julia/stdlib/v1.5/SparseArrays/src/linalg.jl:12</a></li> <li> +(A::<b>LinearAlgebra.Symmetric{var\"#s826\",var\"#s825\"} where var\"#s825\"<:(SparseArrays.AbstractSparseArray{Tv,Ti,2} where Ti where Tv) where var\"#s826\"</b>, B::<b>SparseArrays.AbstractSparseArray{Tv,Ti,2} where Ti where Tv</b>) in SparseArrays at <a href=\"file:///Users/julia/buildbot/worker/package_macos64/build/usr/share/julia/stdlib/v1.5/SparseArrays/src/linalg.jl\" target=\"_blank\">/Applications/Julia-1.5.app/Contents/Resources/julia/share/julia/stdlib/v1.5/SparseArrays/src/linalg.jl:13</a></li> <li> +(A::<b>SparseArrays.AbstractSparseArray{Tv,Ti,2} where Ti where Tv</b>, B::<b>LinearAlgebra.Symmetric</b>) in SparseArrays at <a href=\"file:///Users/julia/buildbot/worker/package_macos64/build/usr/share/julia/stdlib/v1.5/SparseArrays/src/linalg.jl\" target=\"_blank\">/Applications/Julia-1.5.app/Contents/Resources/julia/share/julia/stdlib/v1.5/SparseArrays/src/linalg.jl:15</a></li> <li> +(A::<b>LinearAlgebra.Symmetric</b>, B::<b>SparseArrays.AbstractSparseArray{Tv,Ti,2} where Ti where Tv</b>) in SparseArrays at <a href=\"file:///Users/julia/buildbot/worker/package_macos64/build/usr/share/julia/stdlib/v1.5/SparseArrays/src/linalg.jl\" target=\"_blank\">/Applications/Julia-1.5.app/Contents/Resources/julia/share/julia/stdlib/v1.5/SparseArrays/src/linalg.jl:16</a></li> <li> +(A::<b>LinearAlgebra.Symmetric{var\"#s828\",var\"#s827\"} where var\"#s827\"<:(SparseArrays.AbstractSparseArray{Tv,Ti,2} where Ti where Tv) where var\"#s828\"</b>, B::<b>LinearAlgebra.Hermitian{var\"#s826\",var\"#s825\"} where var\"#s825\"<:(SparseArrays.AbstractSparseArray{Tv,Ti,2} where Ti where Tv) where var\"#s826\"</b>) in SparseArrays at <a href=\"file:///Users/julia/buildbot/worker/package_macos64/build/usr/share/julia/stdlib/v1.5/SparseArrays/src/linalg.jl\" target=\"_blank\">/Applications/Julia-1.5.app/Contents/Resources/julia/share/julia/stdlib/v1.5/SparseArrays/src/linalg.jl:21</a></li> <li> +(A::<b>LinearAlgebra.Hermitian{var\"#s824\",var\"#s823\"} where var\"#s823\"<:(SparseArrays.AbstractSparseArray{Tv,Ti,2} where Ti where Tv) where var\"#s824\"</b>, B::<b>LinearAlgebra.Symmetric{var\"#s822\",var\"#s821\"} where var\"#s821\"<:(SparseArrays.AbstractSparseArray{Tv,Ti,2} where Ti where Tv) where var\"#s822\"</b>) in SparseArrays at <a href=\"file:///Users/julia/buildbot/worker/package_macos64/build/usr/share/julia/stdlib/v1.5/SparseArrays/src/linalg.jl\" target=\"_blank\">/Applications/Julia-1.5.app/Contents/Resources/julia/share/julia/stdlib/v1.5/SparseArrays/src/linalg.jl:22</a></li> <li> +(x::<b>AbstractArray{var\"#s91\",N} where N where var\"#s91\"<:Number</b>) in Base at <a href=\"https://github.com/JuliaLang/julia/tree/539f3ce943f59dec8aff3f2238b083f1b27f41e5/base/abstractarraymath.jl#L97\" target=\"_blank\">abstractarraymath.jl:97</a></li> <li> +(A::<b>AbstractArray</b>, B::<b>AbstractArray</b>) in Base at <a href=\"https://github.com/JuliaLang/julia/tree/539f3ce943f59dec8aff3f2238b083f1b27f41e5/base/arraymath.jl#L37\" target=\"_blank\">arraymath.jl:37</a></li> <li> +(x::<b>T</b>, y::<b>Integer</b>)<i> where T<:AbstractChar</i> in Base at <a href=\"https://github.com/JuliaLang/julia/tree/539f3ce943f59dec8aff3f2238b083f1b27f41e5/base/char.jl#L223\" target=\"_blank\">char.jl:223</a></li> <li> +(index1::<b>CartesianIndex{N}</b>, index2::<b>CartesianIndex{N}</b>)<i> where N</i> in Base.IteratorsMD at <a href=\"https://github.com/JuliaLang/julia/tree/539f3ce943f59dec8aff3f2238b083f1b27f41e5/base/multidimensional.jl#L113\" target=\"_blank\">multidimensional.jl:113</a></li> <li> +(::<b>Number</b>, ::<b>Missing</b>) in Base at <a href=\"https://github.com/JuliaLang/julia/tree/539f3ce943f59dec8aff3f2238b083f1b27f41e5/base/missing.jl#L116\" target=\"_blank\">missing.jl:116</a></li> <li> +(x::<b>P</b>, y::<b>P</b>)<i> where P<:Dates.Period</i> in Dates at <a href=\"file:///Users/julia/buildbot/worker/package_macos64/build/usr/share/julia/stdlib/v1.5/Dates/src/periods.jl\" target=\"_blank\">/Applications/Julia-1.5.app/Contents/Resources/julia/share/julia/stdlib/v1.5/Dates/src/periods.jl:78</a></li> <li> +(x::<b>Dates.Period</b>, y::<b>Dates.Period</b>) in Dates at <a href=\"file:///Users/julia/buildbot/worker/package_macos64/build/usr/share/julia/stdlib/v1.5/Dates/src/periods.jl\" target=\"_blank\">/Applications/Julia-1.5.app/Contents/Resources/julia/share/julia/stdlib/v1.5/Dates/src/periods.jl:344</a></li> <li> +(y::<b>Dates.Period</b>, x::<b>Dates.CompoundPeriod</b>) in Dates at <a href=\"file:///Users/julia/buildbot/worker/package_macos64/build/usr/share/julia/stdlib/v1.5/Dates/src/periods.jl\" target=\"_blank\">/Applications/Julia-1.5.app/Contents/Resources/julia/share/julia/stdlib/v1.5/Dates/src/periods.jl:346</a></li> <li> +(x::<b>Union{Dates.CompoundPeriod, Dates.Period}</b>) in Dates at <a href=\"file:///Users/julia/buildbot/worker/package_macos64/build/usr/share/julia/stdlib/v1.5/Dates/src/periods.jl\" target=\"_blank\">/Applications/Julia-1.5.app/Contents/Resources/julia/share/julia/stdlib/v1.5/Dates/src/periods.jl:355</a></li> <li> +(x::<b>Dates.TimeType</b>) in Dates at <a href=\"file:///Users/julia/buildbot/worker/package_macos64/build/usr/share/julia/stdlib/v1.5/Dates/src/arithmetic.jl\" target=\"_blank\">/Applications/Julia-1.5.app/Contents/Resources/julia/share/julia/stdlib/v1.5/Dates/src/arithmetic.jl:8</a></li> <li> +(a::<b>Dates.TimeType</b>, b::<b>Dates.Period</b>, c::<b>Dates.Period</b>) in Dates at <a href=\"file:///Users/julia/buildbot/worker/package_macos64/build/usr/share/julia/stdlib/v1.5/Dates/src/periods.jl\" target=\"_blank\">/Applications/Julia-1.5.app/Contents/Resources/julia/share/julia/stdlib/v1.5/Dates/src/periods.jl:366</a></li> <li> +(a::<b>Dates.TimeType</b>, b::<b>Dates.Period</b>, c::<b>Dates.Period</b>, d::<b>Dates.Period...</b>) in Dates at <a href=\"file:///Users/julia/buildbot/worker/package_macos64/build/usr/share/julia/stdlib/v1.5/Dates/src/periods.jl\" target=\"_blank\">/Applications/Julia-1.5.app/Contents/Resources/julia/share/julia/stdlib/v1.5/Dates/src/periods.jl:367</a></li> <li> +(x::<b>Dates.TimeType</b>, y::<b>Dates.CompoundPeriod</b>) in Dates at <a href=\"file:///Users/julia/buildbot/worker/package_macos64/build/usr/share/julia/stdlib/v1.5/Dates/src/periods.jl\" target=\"_blank\">/Applications/Julia-1.5.app/Contents/Resources/julia/share/julia/stdlib/v1.5/Dates/src/periods.jl:369</a></li> <li> +(x::<b>Dates.Instant</b>) in Dates at <a href=\"file:///Users/julia/buildbot/worker/package_macos64/build/usr/share/julia/stdlib/v1.5/Dates/src/arithmetic.jl\" target=\"_blank\">/Applications/Julia-1.5.app/Contents/Resources/julia/share/julia/stdlib/v1.5/Dates/src/arithmetic.jl:4</a></li> <li> +(y::<b>Dates.Period</b>, x::<b>Dates.TimeType</b>) in Dates at <a href=\"file:///Users/julia/buildbot/worker/package_macos64/build/usr/share/julia/stdlib/v1.5/Dates/src/arithmetic.jl\" target=\"_blank\">/Applications/Julia-1.5.app/Contents/Resources/julia/share/julia/stdlib/v1.5/Dates/src/arithmetic.jl:80</a></li> <li> +(x::<b>Dates.Period</b>, r::<b>AbstractRange{var\"#s828\"} where var\"#s828\"<:Dates.TimeType</b>) in Dates at <a href=\"file:///Users/julia/buildbot/worker/package_macos64/build/usr/share/julia/stdlib/v1.5/Dates/src/ranges.jl\" target=\"_blank\">/Applications/Julia-1.5.app/Contents/Resources/julia/share/julia/stdlib/v1.5/Dates/src/ranges.jl:58</a></li> <li> +(x::<b>AbstractArray{var\"#s828\",N} where N where var\"#s828\"<:Dates.TimeType</b>, y::<b>Union{Dates.CompoundPeriod, Dates.Period}</b>) in Dates at <a href=\"file:///Users/julia/buildbot/worker/package_macos64/build/usr/share/julia/stdlib/v1.5/Dates/src/deprecated.jl\" target=\"_blank\">/Applications/Julia-1.5.app/Contents/Resources/julia/share/julia/stdlib/v1.5/Dates/src/deprecated.jl:6</a></li> <li> +(y::<b>Union{Dates.CompoundPeriod, Dates.Period}</b>, x::<b>AbstractArray{var\"#s828\",N} where N where var\"#s828\"<:Dates.TimeType</b>) in Dates at <a href=\"file:///Users/julia/buildbot/worker/package_macos64/build/usr/share/julia/stdlib/v1.5/Dates/src/deprecated.jl\" target=\"_blank\">/Applications/Julia-1.5.app/Contents/Resources/julia/share/julia/stdlib/v1.5/Dates/src/deprecated.jl:14</a></li> <li> +(y::<b>Dates.TimeType</b>, x::<b>StridedArray{var\"#s828\", N} where N where var\"#s828\"<:Union{Dates.CompoundPeriod, Dates.Period}</b>) in Dates at <a href=\"file:///Users/julia/buildbot/worker/package_macos64/build/usr/share/julia/stdlib/v1.5/Dates/src/deprecated.jl\" target=\"_blank\">/Applications/Julia-1.5.app/Contents/Resources/julia/share/julia/stdlib/v1.5/Dates/src/deprecated.jl:18</a></li> <li> +(J::<b>LinearAlgebra.UniformScaling</b>, x::<b>Number</b>) in LinearAlgebra at <a href=\"file:///Users/julia/buildbot/worker/package_macos64/build/usr/share/julia/stdlib/v1.5/LinearAlgebra/src/uniformscaling.jl\" target=\"_blank\">/Applications/Julia-1.5.app/Contents/Resources/julia/share/julia/stdlib/v1.5/LinearAlgebra/src/uniformscaling.jl:111</a></li> <li> +(x::<b>Number</b>, J::<b>LinearAlgebra.UniformScaling</b>) in LinearAlgebra at <a href=\"file:///Users/julia/buildbot/worker/package_macos64/build/usr/share/julia/stdlib/v1.5/LinearAlgebra/src/uniformscaling.jl\" target=\"_blank\">/Applications/Julia-1.5.app/Contents/Resources/julia/share/julia/stdlib/v1.5/LinearAlgebra/src/uniformscaling.jl:112</a></li> <li> +(J1::<b>LinearAlgebra.UniformScaling</b>, J2::<b>LinearAlgebra.UniformScaling</b>) in LinearAlgebra at <a href=\"file:///Users/julia/buildbot/worker/package_macos64/build/usr/share/julia/stdlib/v1.5/LinearAlgebra/src/uniformscaling.jl\" target=\"_blank\">/Applications/Julia-1.5.app/Contents/Resources/julia/share/julia/stdlib/v1.5/LinearAlgebra/src/uniformscaling.jl:116</a></li> <li> +(J::<b>LinearAlgebra.UniformScaling</b>, B::<b>BitArray{2}</b>) in LinearAlgebra at <a href=\"file:///Users/julia/buildbot/worker/package_macos64/build/usr/share/julia/stdlib/v1.5/LinearAlgebra/src/uniformscaling.jl\" target=\"_blank\">/Applications/Julia-1.5.app/Contents/Resources/julia/share/julia/stdlib/v1.5/LinearAlgebra/src/uniformscaling.jl:118</a></li> <li> +(A::<b>LinearAlgebra.UniformScaling</b>, B::<b>LinearAlgebra.Tridiagonal{var\"#s828\",V} where V<:AbstractArray{var\"#s828\",1} where var\"#s828\"<:Number</b>) in LinearAlgebra at <a href=\"file:///Users/julia/buildbot/worker/package_macos64/build/usr/share/julia/stdlib/v1.5/LinearAlgebra/src/special.jl\" target=\"_blank\">/Applications/Julia-1.5.app/Contents/Resources/julia/share/julia/stdlib/v1.5/LinearAlgebra/src/special.jl:245</a></li> <li> +(A::<b>LinearAlgebra.UniformScaling</b>, B::<b>LinearAlgebra.SymTridiagonal{var\"#s828\",V} where V<:AbstractArray{var\"#s828\",1} where var\"#s828\"<:Number</b>) in LinearAlgebra at <a href=\"file:///Users/julia/buildbot/worker/package_macos64/build/usr/share/julia/stdlib/v1.5/LinearAlgebra/src/special.jl\" target=\"_blank\">/Applications/Julia-1.5.app/Contents/Resources/julia/share/julia/stdlib/v1.5/LinearAlgebra/src/special.jl:250</a></li> <li> +(A::<b>LinearAlgebra.UniformScaling</b>, B::<b>LinearAlgebra.Bidiagonal{var\"#s828\",V} where V<:AbstractArray{var\"#s828\",1} where var\"#s828\"<:Number</b>) in LinearAlgebra at <a href=\"file:///Users/julia/buildbot/worker/package_macos64/build/usr/share/julia/stdlib/v1.5/LinearAlgebra/src/special.jl\" target=\"_blank\">/Applications/Julia-1.5.app/Contents/Resources/julia/share/julia/stdlib/v1.5/LinearAlgebra/src/special.jl:255</a></li> <li> +(A::<b>LinearAlgebra.UniformScaling</b>, B::<b>LinearAlgebra.Diagonal{var\"#s828\",V} where V<:AbstractArray{var\"#s828\",1} where var\"#s828\"<:Number</b>) in LinearAlgebra at <a href=\"file:///Users/julia/buildbot/worker/package_macos64/build/usr/share/julia/stdlib/v1.5/LinearAlgebra/src/special.jl\" target=\"_blank\">/Applications/Julia-1.5.app/Contents/Resources/julia/share/julia/stdlib/v1.5/LinearAlgebra/src/special.jl:260</a></li> <li> +(J::<b>LinearAlgebra.UniformScaling</b>, A::<b>AbstractArray{T,2} where T</b>) in LinearAlgebra at <a href=\"file:///Users/julia/buildbot/worker/package_macos64/build/usr/share/julia/stdlib/v1.5/LinearAlgebra/src/uniformscaling.jl\" target=\"_blank\">/Applications/Julia-1.5.app/Contents/Resources/julia/share/julia/stdlib/v1.5/LinearAlgebra/src/uniformscaling.jl:119</a></li> <li> +(F::<b>LinearAlgebra.Hessenberg</b>, J::<b>LinearAlgebra.UniformScaling</b>) in LinearAlgebra at <a href=\"file:///Users/julia/buildbot/worker/package_macos64/build/usr/share/julia/stdlib/v1.5/LinearAlgebra/src/hessenberg.jl\" target=\"_blank\">/Applications/Julia-1.5.app/Contents/Resources/julia/share/julia/stdlib/v1.5/LinearAlgebra/src/hessenberg.jl:559</a></li> <li> +(J::<b>LinearAlgebra.UniformScaling</b>, F::<b>LinearAlgebra.Hessenberg</b>) in LinearAlgebra at <a href=\"file:///Users/julia/buildbot/worker/package_macos64/build/usr/share/julia/stdlib/v1.5/LinearAlgebra/src/hessenberg.jl\" target=\"_blank\">/Applications/Julia-1.5.app/Contents/Resources/julia/share/julia/stdlib/v1.5/LinearAlgebra/src/hessenberg.jl:560</a></li> <li> +(a, b, c, xs...) in Base at <a href=\"https://github.com/JuliaLang/julia/tree/539f3ce943f59dec8aff3f2238b083f1b27f41e5/base/operators.jl#L538\" target=\"_blank\">operators.jl:538</a></li> </ul>"
      ],
      "text/plain": [
       "# 184 methods for generic function \"+\":\n",
       "[1] +(dt::Dates.DateTime, z::Dates.Month) in Dates at /Applications/Julia-1.5.app/Contents/Resources/julia/share/julia/stdlib/v1.5/Dates/src/arithmetic.jl:47\n",
       "[2] +(dt::Dates.DateTime, y::Dates.Year) in Dates at /Applications/Julia-1.5.app/Contents/Resources/julia/share/julia/stdlib/v1.5/Dates/src/arithmetic.jl:23\n",
       "[3] +(x::Dates.DateTime, y::Dates.Period) in Dates at /Applications/Julia-1.5.app/Contents/Resources/julia/share/julia/stdlib/v1.5/Dates/src/arithmetic.jl:76\n",
       "[4] +(z::Complex{Bool}, x::Bool) in Base at complex.jl:287\n",
       "[5] +(z::Complex{Bool}, x::Real) in Base at complex.jl:301\n",
       "[6] +(c::BigInt, x::BigFloat) in Base.MPFR at mpfr.jl:399\n",
       "[7] +(a::BigInt, b::BigInt, c::BigInt, d::BigInt, e::BigInt) in Base.GMP at gmp.jl:518\n",
       "[8] +(a::BigInt, b::BigInt, c::BigInt, d::BigInt) in Base.GMP at gmp.jl:517\n",
       "[9] +(a::BigInt, b::BigInt, c::BigInt) in Base.GMP at gmp.jl:516\n",
       "[10] +(x::BigInt, y::BigInt) in Base.GMP at gmp.jl:476\n",
       "[11] +(x::BigInt, c::Union{UInt16, UInt32, UInt64, UInt8}) in Base.GMP at gmp.jl:524\n",
       "[12] +(x::BigInt, c::Union{Int16, Int32, Int64, Int8}) in Base.GMP at gmp.jl:530\n",
       "[13] +(level::Base.CoreLogging.LogLevel, inc::Integer) in Base.CoreLogging at logging.jl:116\n",
       "[14] +(B::BitArray{2}, J::LinearAlgebra.UniformScaling) in LinearAlgebra at /Applications/Julia-1.5.app/Contents/Resources/julia/share/julia/stdlib/v1.5/LinearAlgebra/src/uniformscaling.jl:117\n",
       "[15] +(::Missing, ::Missing) in Base at missing.jl:114\n",
       "[16] +(::Missing) in Base at missing.jl:100\n",
       "[17] +(::Missing, ::Number) in Base at missing.jl:115\n",
       "[18] +(x::Float64, y::Float64) in Base at float.jl:401\n",
       "[19] +(x::Bool, z::Complex{Bool}) in Base at complex.jl:286\n",
       "[20] +(x::Bool, y::Bool) in Base at bool.jl:96\n",
       "[21] +(x::Bool) in Base at bool.jl:93\n",
       "[22] +(x::Bool, y::T) where T<:AbstractFloat in Base at bool.jl:103\n",
       "[23] +(x::Bool, z::Complex) in Base at complex.jl:293\n",
       "[24] +(x::Dates.Date, y::Dates.Day) in Dates at /Applications/Julia-1.5.app/Contents/Resources/julia/share/julia/stdlib/v1.5/Dates/src/arithmetic.jl:74\n",
       "[25] +(x::Dates.Date, y::Dates.Week) in Dates at /Applications/Julia-1.5.app/Contents/Resources/julia/share/julia/stdlib/v1.5/Dates/src/arithmetic.jl:72\n",
       "[26] +(dt::Dates.Date, z::Dates.Month) in Dates at /Applications/Julia-1.5.app/Contents/Resources/julia/share/julia/stdlib/v1.5/Dates/src/arithmetic.jl:54\n",
       "[27] +(dt::Dates.Date, y::Dates.Year) in Dates at /Applications/Julia-1.5.app/Contents/Resources/julia/share/julia/stdlib/v1.5/Dates/src/arithmetic.jl:27\n",
       "[28] +(dt::Dates.Date, t::Dates.Time) in Dates at /Applications/Julia-1.5.app/Contents/Resources/julia/share/julia/stdlib/v1.5/Dates/src/arithmetic.jl:19\n",
       "[29] +(a::Pkg.Resolve.VersionWeight, b::Pkg.Resolve.VersionWeight) in Pkg.Resolve at /Applications/Julia-1.5.app/Contents/Resources/julia/share/julia/stdlib/v1.5/Pkg/src/Resolve/versionweights.jl:22\n",
       "[30] +(a::Pkg.Resolve.FieldValue, b::Pkg.Resolve.FieldValue) in Pkg.Resolve at /Applications/Julia-1.5.app/Contents/Resources/julia/share/julia/stdlib/v1.5/Pkg/src/Resolve/fieldvalues.jl:43\n",
       "[31] +(t::Dates.Time, dt::Dates.Date) in Dates at /Applications/Julia-1.5.app/Contents/Resources/julia/share/julia/stdlib/v1.5/Dates/src/arithmetic.jl:20\n",
       "[32] +(x::Dates.Time, y::Dates.TimePeriod) in Dates at /Applications/Julia-1.5.app/Contents/Resources/julia/share/julia/stdlib/v1.5/Dates/src/arithmetic.jl:78\n",
       "[33] +(a::BigFloat, b::BigFloat, c::BigFloat, d::BigFloat, e::BigFloat) in Base.MPFR at mpfr.jl:548\n",
       "[34] +(a::BigFloat, b::BigFloat, c::BigFloat, d::BigFloat) in Base.MPFR at mpfr.jl:541\n",
       "[35] +(a::BigFloat, b::BigFloat, c::BigFloat) in Base.MPFR at mpfr.jl:535\n",
       "[36] +(x::BigFloat, c::BigInt) in Base.MPFR at mpfr.jl:394\n",
       "[37] +(x::BigFloat, y::BigFloat) in Base.MPFR at mpfr.jl:363\n",
       "[38] +(x::BigFloat, c::Union{UInt16, UInt32, UInt64, UInt8}) in Base.MPFR at mpfr.jl:370\n",
       "[39] +(x::BigFloat, c::Union{Int16, Int32, Int64, Int8}) in Base.MPFR at mpfr.jl:378\n",
       "[40] +(x::BigFloat, c::Union{Float16, Float32, Float64}) in Base.MPFR at mpfr.jl:386\n",
       "[41] +(a::Float16, b::Float16) in Base at float.jl:398\n",
       "[42] +(x::Float32, y::Float32) in Base at float.jl:400\n",
       "[43] +(x::Dates.CompoundPeriod, y::Dates.CompoundPeriod) in Dates at /Applications/Julia-1.5.app/Contents/Resources/julia/share/julia/stdlib/v1.5/Dates/src/periods.jl:347\n",
       "[44] +(x::Dates.CompoundPeriod, y::Dates.Period) in Dates at /Applications/Julia-1.5.app/Contents/Resources/julia/share/julia/stdlib/v1.5/Dates/src/periods.jl:345\n",
       "[45] +(x::Dates.CompoundPeriod, y::Dates.TimeType) in Dates at /Applications/Julia-1.5.app/Contents/Resources/julia/share/julia/stdlib/v1.5/Dates/src/periods.jl:375\n",
       "[46] +(y::AbstractFloat, x::Bool) in Base at bool.jl:106\n",
       "[47] +(x::T, y::T) where T<:Union{Int128, Int16, Int32, Int64, Int8, UInt128, UInt16, UInt32, UInt64, UInt8} in Base at int.jl:86\n",
       "[48] +(c::Union{UInt16, UInt32, UInt64, UInt8}, x::BigInt) in Base.GMP at gmp.jl:525\n",
       "[49] +(c::Union{Int16, Int32, Int64, Int8}, x::BigInt) in Base.GMP at gmp.jl:531\n",
       "[50] +(a::Integer, b::Integer) in Base at int.jl:918\n",
       "[51] +(x::Integer, y::Ptr) in Base at pointer.jl:161\n",
       "[52] +(z::Complex) in Base at complex.jl:273\n",
       "[53] +(z::Complex, w::Complex) in Base at complex.jl:275\n",
       "[54] +(z::Complex, x::Bool) in Base at complex.jl:294\n",
       "[55] +(x::Rational) in Base at rational.jl:266\n",
       "[56] +(x::Real, z::Complex{Bool}) in Base at complex.jl:300\n",
       "[57] +(x::Real, z::Complex) in Base at complex.jl:312\n",
       "[58] +(z::Complex, x::Real) in Base at complex.jl:313\n",
       "[59] +(x::Rational, y::Rational) in Base at rational.jl:282\n",
       "[60] +(x::Rational, y::Integer) in Base at rational.jl:287\n",
       "[61] +(y::Integer, x::Rational) in Base at rational.jl:294\n",
       "[62] +(x::Integer, y::AbstractChar) in Base at char.jl:224\n",
       "[63] +(c::Union{UInt16, UInt32, UInt64, UInt8}, x::BigFloat) in Base.MPFR at mpfr.jl:375\n",
       "[64] +(c::Union{Int16, Int32, Int64, Int8}, x::BigFloat) in Base.MPFR at mpfr.jl:383\n",
       "[65] +(c::Union{Float16, Float32, Float64}, x::BigFloat) in Base.MPFR at mpfr.jl:391\n",
       "[66] +(x::AbstractIrrational, y::AbstractIrrational) in Base at irrationals.jl:156\n",
       "[67] +(x::Number) in Base at operators.jl:513\n",
       "[68] +(x::T, y::T) where T<:Number in Base at promotion.jl:384\n",
       "[69] +(x::Number, y::Number) in Base at promotion.jl:311\n",
       "[70] +(r1::OrdinalRange, r2::OrdinalRange) in Base at range.jl:1055\n",
       "[71] +(r1::LinRange{T}, r2::LinRange{T}) where T in Base at range.jl:1062\n",
       "[72] +(r1::StepRangeLen{T,R,S} where S, r2::StepRangeLen{T,R,S} where S) where {R<:Base.TwicePrecision, T} in Base at twiceprecision.jl:577\n",
       "[73] +(r1::StepRangeLen{T,S,S1} where S1, r2::StepRangeLen{T,S,S1} where S1) where {T, S} in Base at range.jl:1078\n",
       "[74] +(r1::Union{LinRange, OrdinalRange, StepRangeLen}, r2::Union{LinRange, OrdinalRange, StepRangeLen}) in Base at range.jl:1071\n",
       "[75] +(x::Ptr, y::Integer) in Base at pointer.jl:159\n",
       "[76] +(x::Base.TwicePrecision, y::Number) in Base at twiceprecision.jl:267\n",
       "[77] +(x::Number, y::Base.TwicePrecision) in Base at twiceprecision.jl:271\n",
       "[78] +(x::Base.TwicePrecision{T}, y::Base.TwicePrecision{T}) where T in Base at twiceprecision.jl:273\n",
       "[79] +(x::Base.TwicePrecision, y::Base.TwicePrecision) in Base at twiceprecision.jl:278\n",
       "[80] +(A::Array, Bs::Array...) in Base at arraymath.jl:43\n",
       "[81] +(A::BitArray, B::BitArray) in Base at bitarray.jl:1110\n",
       "[82] +(r::AbstractRange{var\"#s828\"} where var\"#s828\"<:Dates.TimeType, x::Dates.Period) in Dates at /Applications/Julia-1.5.app/Contents/Resources/julia/share/julia/stdlib/v1.5/Dates/src/ranges.jl:59\n",
       "[83] +(A::Array, B::SparseArrays.AbstractSparseMatrixCSC) in SparseArrays at /Applications/Julia-1.5.app/Contents/Resources/julia/share/julia/stdlib/v1.5/SparseArrays/src/sparsematrix.jl:1683\n",
       "[84] +(x::StridedArray{var\"#s828\", N} where N where var\"#s828\"<:Union{Dates.CompoundPeriod, Dates.Period}) in Dates at /Applications/Julia-1.5.app/Contents/Resources/julia/share/julia/stdlib/v1.5/Dates/src/deprecated.jl:55\n",
       "[85] +(x::StridedArray{var\"#s828\", N} where N where var\"#s828\"<:Union{Dates.CompoundPeriod, Dates.Period}, y::Dates.TimeType) in Dates at /Applications/Julia-1.5.app/Contents/Resources/julia/share/julia/stdlib/v1.5/Dates/src/deprecated.jl:10\n",
       "[86] +(X::StridedArray{var\"#s828\", N} where N where var\"#s828\"<:Union{Dates.CompoundPeriod, Dates.Period}, Y::StridedArray{var\"#s827\", N} where N where var\"#s827\"<:Union{Dates.CompoundPeriod, Dates.Period}) in Dates at /Applications/Julia-1.5.app/Contents/Resources/julia/share/julia/stdlib/v1.5/Dates/src/deprecated.jl:62\n",
       "[87] +(A::LinearAlgebra.SymTridiagonal, B::LinearAlgebra.SymTridiagonal) in LinearAlgebra at /Applications/Julia-1.5.app/Contents/Resources/julia/share/julia/stdlib/v1.5/LinearAlgebra/src/tridiag.jl:205\n",
       "[88] +(A::LinearAlgebra.Tridiagonal, B::LinearAlgebra.Tridiagonal) in LinearAlgebra at /Applications/Julia-1.5.app/Contents/Resources/julia/share/julia/stdlib/v1.5/LinearAlgebra/src/tridiag.jl:732\n",
       "[89] +(A::LinearAlgebra.UpperTriangular, B::LinearAlgebra.UpperTriangular) in LinearAlgebra at /Applications/Julia-1.5.app/Contents/Resources/julia/share/julia/stdlib/v1.5/LinearAlgebra/src/triangular.jl:659\n",
       "[90] +(A::LinearAlgebra.LowerTriangular, B::LinearAlgebra.LowerTriangular) in LinearAlgebra at /Applications/Julia-1.5.app/Contents/Resources/julia/share/julia/stdlib/v1.5/LinearAlgebra/src/triangular.jl:660\n",
       "[91] +(A::LinearAlgebra.UpperTriangular, B::LinearAlgebra.UnitUpperTriangular) in LinearAlgebra at /Applications/Julia-1.5.app/Contents/Resources/julia/share/julia/stdlib/v1.5/LinearAlgebra/src/triangular.jl:661\n",
       "[92] +(A::LinearAlgebra.LowerTriangular, B::LinearAlgebra.UnitLowerTriangular) in LinearAlgebra at /Applications/Julia-1.5.app/Contents/Resources/julia/share/julia/stdlib/v1.5/LinearAlgebra/src/triangular.jl:662\n",
       "[93] +(A::LinearAlgebra.UnitUpperTriangular, B::LinearAlgebra.UpperTriangular) in LinearAlgebra at /Applications/Julia-1.5.app/Contents/Resources/julia/share/julia/stdlib/v1.5/LinearAlgebra/src/triangular.jl:663\n",
       "[94] +(A::LinearAlgebra.UnitLowerTriangular, B::LinearAlgebra.LowerTriangular) in LinearAlgebra at /Applications/Julia-1.5.app/Contents/Resources/julia/share/julia/stdlib/v1.5/LinearAlgebra/src/triangular.jl:664\n",
       "[95] +(A::LinearAlgebra.UnitUpperTriangular, B::LinearAlgebra.UnitUpperTriangular) in LinearAlgebra at /Applications/Julia-1.5.app/Contents/Resources/julia/share/julia/stdlib/v1.5/LinearAlgebra/src/triangular.jl:665\n",
       "[96] +(A::LinearAlgebra.UnitLowerTriangular, B::LinearAlgebra.UnitLowerTriangular) in LinearAlgebra at /Applications/Julia-1.5.app/Contents/Resources/julia/share/julia/stdlib/v1.5/LinearAlgebra/src/triangular.jl:666\n",
       "[97] +(A::LinearAlgebra.AbstractTriangular, B::LinearAlgebra.AbstractTriangular) in LinearAlgebra at /Applications/Julia-1.5.app/Contents/Resources/julia/share/julia/stdlib/v1.5/LinearAlgebra/src/triangular.jl:667\n",
       "[98] +(A::LinearAlgebra.Hermitian, B::LinearAlgebra.Hermitian) in LinearAlgebra at /Applications/Julia-1.5.app/Contents/Resources/julia/share/julia/stdlib/v1.5/LinearAlgebra/src/symmetric.jl:466\n",
       "[99] +(A::LinearAlgebra.Symmetric, B::LinearAlgebra.Symmetric) in LinearAlgebra at /Applications/Julia-1.5.app/Contents/Resources/julia/share/julia/stdlib/v1.5/LinearAlgebra/src/symmetric.jl:466\n",
       "[100] +(A::LinearAlgebra.Hermitian{var\"#s816\",var\"#s815\"} where var\"#s815\"<:(SparseArrays.AbstractSparseArray{Tv,Ti,2} where Ti where Tv) where var\"#s816\", B::LinearAlgebra.Symmetric{var\"#s814\",var\"#s813\"} where var\"#s813\"<:(SparseArrays.AbstractSparseArray{Tv,Ti,2} where Ti where Tv) where var\"#s814\"<:Real) in SparseArrays at /Applications/Julia-1.5.app/Contents/Resources/julia/share/julia/stdlib/v1.5/SparseArrays/src/linalg.jl:24\n",
       "[101] +(A::LinearAlgebra.Hermitian, B::LinearAlgebra.Symmetric{var\"#s828\",S} where S<:(AbstractArray{var\"#s8281\",2} where var\"#s8281\"<:var\"#s828\") where var\"#s828\"<:Real) in LinearAlgebra at /Applications/Julia-1.5.app/Contents/Resources/julia/share/julia/stdlib/v1.5/LinearAlgebra/src/symmetric.jl:480\n",
       "[102] +(A::LinearAlgebra.Symmetric{var\"#s820\",var\"#s819\"} where var\"#s819\"<:(SparseArrays.AbstractSparseArray{Tv,Ti,2} where Ti where Tv) where var\"#s820\"<:Real, B::LinearAlgebra.Hermitian{var\"#s818\",var\"#s817\"} where var\"#s817\"<:(SparseArrays.AbstractSparseArray{Tv,Ti,2} where Ti where Tv) where var\"#s818\") in SparseArrays at /Applications/Julia-1.5.app/Contents/Resources/julia/share/julia/stdlib/v1.5/SparseArrays/src/linalg.jl:23\n",
       "[103] +(A::LinearAlgebra.Symmetric{var\"#s827\",S} where S<:(AbstractArray{var\"#s828\",2} where var\"#s828\"<:var\"#s827\") where var\"#s827\"<:Real, B::LinearAlgebra.Hermitian) in LinearAlgebra at /Applications/Julia-1.5.app/Contents/Resources/julia/share/julia/stdlib/v1.5/LinearAlgebra/src/symmetric.jl:481\n",
       "[104] +(Da::LinearAlgebra.Diagonal, Db::LinearAlgebra.Diagonal) in LinearAlgebra at /Applications/Julia-1.5.app/Contents/Resources/julia/share/julia/stdlib/v1.5/LinearAlgebra/src/diagonal.jl:156\n",
       "[105] +(D::LinearAlgebra.Diagonal, S::LinearAlgebra.Symmetric) in LinearAlgebra at /Applications/Julia-1.5.app/Contents/Resources/julia/share/julia/stdlib/v1.5/LinearAlgebra/src/diagonal.jl:160\n",
       "[106] +(S::LinearAlgebra.Symmetric, D::LinearAlgebra.Diagonal) in LinearAlgebra at /Applications/Julia-1.5.app/Contents/Resources/julia/share/julia/stdlib/v1.5/LinearAlgebra/src/diagonal.jl:163\n",
       "[107] +(D::LinearAlgebra.Diagonal{var\"#s828\",V} where V<:AbstractArray{var\"#s828\",1} where var\"#s828\"<:Real, H::LinearAlgebra.Hermitian) in LinearAlgebra at /Applications/Julia-1.5.app/Contents/Resources/julia/share/julia/stdlib/v1.5/LinearAlgebra/src/diagonal.jl:166\n",
       "[108] +(H::LinearAlgebra.Hermitian, D::LinearAlgebra.Diagonal{var\"#s828\",V} where V<:AbstractArray{var\"#s828\",1} where var\"#s828\"<:Real) in LinearAlgebra at /Applications/Julia-1.5.app/Contents/Resources/julia/share/julia/stdlib/v1.5/LinearAlgebra/src/diagonal.jl:169\n",
       "[109] +(A::LinearAlgebra.Bidiagonal, B::LinearAlgebra.Bidiagonal) in LinearAlgebra at /Applications/Julia-1.5.app/Contents/Resources/julia/share/julia/stdlib/v1.5/LinearAlgebra/src/bidiag.jl:347\n",
       "[110] +(UL::LinearAlgebra.UnitUpperTriangular, J::LinearAlgebra.UniformScaling) in LinearAlgebra at /Applications/Julia-1.5.app/Contents/Resources/julia/share/julia/stdlib/v1.5/LinearAlgebra/src/uniformscaling.jl:147\n",
       "[111] +(UL::LinearAlgebra.UnitLowerTriangular, J::LinearAlgebra.UniformScaling) in LinearAlgebra at /Applications/Julia-1.5.app/Contents/Resources/julia/share/julia/stdlib/v1.5/LinearAlgebra/src/uniformscaling.jl:147\n",
       "[112] +(A::LinearAlgebra.Hermitian, J::LinearAlgebra.UniformScaling{var\"#s828\"} where var\"#s828\"<:Complex) in LinearAlgebra at /Applications/Julia-1.5.app/Contents/Resources/julia/share/julia/stdlib/v1.5/LinearAlgebra/src/uniformscaling.jl:161\n",
       "[113] +(H::LinearAlgebra.UpperHessenberg, J::LinearAlgebra.UniformScaling) in LinearAlgebra at /Applications/Julia-1.5.app/Contents/Resources/julia/share/julia/stdlib/v1.5/LinearAlgebra/src/hessenberg.jl:106\n",
       "[114] +(A::LinearAlgebra.Tridiagonal{var\"#s828\",V} where V<:AbstractArray{var\"#s828\",1} where var\"#s828\"<:Number, B::LinearAlgebra.UniformScaling) in LinearAlgebra at /Applications/Julia-1.5.app/Contents/Resources/julia/share/julia/stdlib/v1.5/LinearAlgebra/src/special.jl:226\n",
       "[115] +(A::LinearAlgebra.SymTridiagonal{var\"#s828\",V} where V<:AbstractArray{var\"#s828\",1} where var\"#s828\"<:Number, B::LinearAlgebra.UniformScaling) in LinearAlgebra at /Applications/Julia-1.5.app/Contents/Resources/julia/share/julia/stdlib/v1.5/LinearAlgebra/src/special.jl:231\n",
       "[116] +(A::LinearAlgebra.Bidiagonal{var\"#s828\",V} where V<:AbstractArray{var\"#s828\",1} where var\"#s828\"<:Number, B::LinearAlgebra.UniformScaling) in LinearAlgebra at /Applications/Julia-1.5.app/Contents/Resources/julia/share/julia/stdlib/v1.5/LinearAlgebra/src/special.jl:236\n",
       "[117] +(A::LinearAlgebra.Diagonal{var\"#s828\",V} where V<:AbstractArray{var\"#s828\",1} where var\"#s828\"<:Number, B::LinearAlgebra.UniformScaling) in LinearAlgebra at /Applications/Julia-1.5.app/Contents/Resources/julia/share/julia/stdlib/v1.5/LinearAlgebra/src/special.jl:241\n",
       "[118] +(A::SparseArrays.AbstractSparseMatrixCSC, J::LinearAlgebra.UniformScaling) in SparseArrays at /Applications/Julia-1.5.app/Contents/Resources/julia/share/julia/stdlib/v1.5/SparseArrays/src/sparsematrix.jl:3641\n",
       "[119] +(A::AbstractArray{T,2} where T, J::LinearAlgebra.UniformScaling) in LinearAlgebra at /Applications/Julia-1.5.app/Contents/Resources/julia/share/julia/stdlib/v1.5/LinearAlgebra/src/uniformscaling.jl:180\n",
       "[120] +(A::LinearAlgebra.UpperHessenberg, B::LinearAlgebra.UpperHessenberg) in LinearAlgebra at /Applications/Julia-1.5.app/Contents/Resources/julia/share/julia/stdlib/v1.5/LinearAlgebra/src/hessenberg.jl:101\n",
       "[121] +(A::LinearAlgebra.UpperTriangular, B::LinearAlgebra.Bidiagonal) in LinearAlgebra at /Applications/Julia-1.5.app/Contents/Resources/julia/share/julia/stdlib/v1.5/LinearAlgebra/src/special.jl:86\n",
       "[122] +(A::LinearAlgebra.Bidiagonal, B::LinearAlgebra.UpperTriangular) in LinearAlgebra at /Applications/Julia-1.5.app/Contents/Resources/julia/share/julia/stdlib/v1.5/LinearAlgebra/src/special.jl:94\n",
       "[123] +(A::LinearAlgebra.UnitUpperTriangular, B::LinearAlgebra.Bidiagonal) in LinearAlgebra at /Applications/Julia-1.5.app/Contents/Resources/julia/share/julia/stdlib/v1.5/LinearAlgebra/src/special.jl:86\n",
       "[124] +(A::LinearAlgebra.Bidiagonal, B::LinearAlgebra.UnitUpperTriangular) in LinearAlgebra at /Applications/Julia-1.5.app/Contents/Resources/julia/share/julia/stdlib/v1.5/LinearAlgebra/src/special.jl:94\n",
       "[125] +(A::LinearAlgebra.LowerTriangular, B::LinearAlgebra.Bidiagonal) in LinearAlgebra at /Applications/Julia-1.5.app/Contents/Resources/julia/share/julia/stdlib/v1.5/LinearAlgebra/src/special.jl:86\n",
       "[126] +(A::LinearAlgebra.Bidiagonal, B::LinearAlgebra.LowerTriangular) in LinearAlgebra at /Applications/Julia-1.5.app/Contents/Resources/julia/share/julia/stdlib/v1.5/LinearAlgebra/src/special.jl:94\n",
       "[127] +(A::LinearAlgebra.UnitLowerTriangular, B::LinearAlgebra.Bidiagonal) in LinearAlgebra at /Applications/Julia-1.5.app/Contents/Resources/julia/share/julia/stdlib/v1.5/LinearAlgebra/src/special.jl:86\n",
       "[128] +(A::LinearAlgebra.Bidiagonal, B::LinearAlgebra.UnitLowerTriangular) in LinearAlgebra at /Applications/Julia-1.5.app/Contents/Resources/julia/share/julia/stdlib/v1.5/LinearAlgebra/src/special.jl:94\n",
       "[129] +(A::LinearAlgebra.Bidiagonal, B::LinearAlgebra.Diagonal) in LinearAlgebra at /Applications/Julia-1.5.app/Contents/Resources/julia/share/julia/stdlib/v1.5/LinearAlgebra/src/special.jl:115\n",
       "[130] +(A::LinearAlgebra.Diagonal, B::LinearAlgebra.Bidiagonal) in LinearAlgebra at /Applications/Julia-1.5.app/Contents/Resources/julia/share/julia/stdlib/v1.5/LinearAlgebra/src/special.jl:125\n",
       "[131] +(A::LinearAlgebra.Diagonal, B::LinearAlgebra.SymTridiagonal) in LinearAlgebra at /Applications/Julia-1.5.app/Contents/Resources/julia/share/julia/stdlib/v1.5/LinearAlgebra/src/special.jl:135\n",
       "[132] +(A::LinearAlgebra.SymTridiagonal, B::LinearAlgebra.Diagonal) in LinearAlgebra at /Applications/Julia-1.5.app/Contents/Resources/julia/share/julia/stdlib/v1.5/LinearAlgebra/src/special.jl:145\n",
       "[133] +(A::LinearAlgebra.Tridiagonal, B::LinearAlgebra.SymTridiagonal) in LinearAlgebra at /Applications/Julia-1.5.app/Contents/Resources/julia/share/julia/stdlib/v1.5/LinearAlgebra/src/special.jl:157\n",
       "[134] +(A::LinearAlgebra.SymTridiagonal, B::LinearAlgebra.Tridiagonal) in LinearAlgebra at /Applications/Julia-1.5.app/Contents/Resources/julia/share/julia/stdlib/v1.5/LinearAlgebra/src/special.jl:159\n",
       "[135] +(A::LinearAlgebra.Diagonal, B::LinearAlgebra.Tridiagonal) in LinearAlgebra at /Applications/Julia-1.5.app/Contents/Resources/julia/share/julia/stdlib/v1.5/LinearAlgebra/src/special.jl:163\n",
       "[136] +(A::LinearAlgebra.Tridiagonal, B::LinearAlgebra.Diagonal) in LinearAlgebra at /Applications/Julia-1.5.app/Contents/Resources/julia/share/julia/stdlib/v1.5/LinearAlgebra/src/special.jl:173\n",
       "[137] +(A::LinearAlgebra.Bidiagonal, B::LinearAlgebra.Tridiagonal) in LinearAlgebra at /Applications/Julia-1.5.app/Contents/Resources/julia/share/julia/stdlib/v1.5/LinearAlgebra/src/special.jl:183\n",
       "[138] +(A::LinearAlgebra.Tridiagonal, B::LinearAlgebra.Bidiagonal) in LinearAlgebra at /Applications/Julia-1.5.app/Contents/Resources/julia/share/julia/stdlib/v1.5/LinearAlgebra/src/special.jl:193\n",
       "[139] +(A::LinearAlgebra.Bidiagonal, B::LinearAlgebra.SymTridiagonal) in LinearAlgebra at /Applications/Julia-1.5.app/Contents/Resources/julia/share/julia/stdlib/v1.5/LinearAlgebra/src/special.jl:203\n",
       "[140] +(A::LinearAlgebra.SymTridiagonal, B::LinearAlgebra.Bidiagonal) in LinearAlgebra at /Applications/Julia-1.5.app/Contents/Resources/julia/share/julia/stdlib/v1.5/LinearAlgebra/src/special.jl:213\n",
       "[141] +(A::SparseArrays.AbstractSparseMatrixCSC, B::SparseArrays.AbstractSparseMatrixCSC) in SparseArrays at /Applications/Julia-1.5.app/Contents/Resources/julia/share/julia/stdlib/v1.5/SparseArrays/src/sparsematrix.jl:1679\n",
       "[142] +(A::SparseArrays.AbstractSparseMatrixCSC, B::Array) in SparseArrays at /Applications/Julia-1.5.app/Contents/Resources/julia/share/julia/stdlib/v1.5/SparseArrays/src/sparsematrix.jl:1682\n",
       "[143] +(x::SparseArrays.AbstractSparseArray{Tv,Ti,1} where Ti where Tv, y::SparseArrays.AbstractSparseArray{Tv,Ti,1} where Ti where Tv) in SparseArrays at /Applications/Julia-1.5.app/Contents/Resources/julia/share/julia/stdlib/v1.5/SparseArrays/src/sparsevector.jl:1302\n",
       "[144] +(A::SparseArrays.AbstractSparseArray{Tv,Ti,2} where Ti where Tv, B::LinearAlgebra.Hermitian{var\"#s828\",var\"#s827\"} where var\"#s827\"<:(SparseArrays.AbstractSparseArray{Tv,Ti,2} where Ti where Tv) where var\"#s828\") in SparseArrays at /Applications/Julia-1.5.app/Contents/Resources/julia/share/julia/stdlib/v1.5/SparseArrays/src/linalg.jl:12\n",
       "[145] +(A::LinearAlgebra.Hermitian{var\"#s826\",var\"#s825\"} where var\"#s825\"<:(SparseArrays.AbstractSparseArray{Tv,Ti,2} where Ti where Tv) where var\"#s826\", B::SparseArrays.AbstractSparseArray{Tv,Ti,2} where Ti where Tv) in SparseArrays at /Applications/Julia-1.5.app/Contents/Resources/julia/share/julia/stdlib/v1.5/SparseArrays/src/linalg.jl:13\n",
       "[146] +(A::SparseArrays.AbstractSparseArray{Tv,Ti,2} where Ti where Tv, B::LinearAlgebra.Hermitian) in SparseArrays at /Applications/Julia-1.5.app/Contents/Resources/julia/share/julia/stdlib/v1.5/SparseArrays/src/linalg.jl:15\n",
       "[147] +(A::LinearAlgebra.Hermitian, B::SparseArrays.AbstractSparseArray{Tv,Ti,2} where Ti where Tv) in SparseArrays at /Applications/Julia-1.5.app/Contents/Resources/julia/share/julia/stdlib/v1.5/SparseArrays/src/linalg.jl:16\n",
       "[148] +(A::SparseArrays.AbstractSparseArray{Tv,Ti,2} where Ti where Tv, B::LinearAlgebra.Symmetric{var\"#s828\",var\"#s827\"} where var\"#s827\"<:(SparseArrays.AbstractSparseArray{Tv,Ti,2} where Ti where Tv) where var\"#s828\") in SparseArrays at /Applications/Julia-1.5.app/Contents/Resources/julia/share/julia/stdlib/v1.5/SparseArrays/src/linalg.jl:12\n",
       "[149] +(A::LinearAlgebra.Symmetric{var\"#s826\",var\"#s825\"} where var\"#s825\"<:(SparseArrays.AbstractSparseArray{Tv,Ti,2} where Ti where Tv) where var\"#s826\", B::SparseArrays.AbstractSparseArray{Tv,Ti,2} where Ti where Tv) in SparseArrays at /Applications/Julia-1.5.app/Contents/Resources/julia/share/julia/stdlib/v1.5/SparseArrays/src/linalg.jl:13\n",
       "[150] +(A::SparseArrays.AbstractSparseArray{Tv,Ti,2} where Ti where Tv, B::LinearAlgebra.Symmetric) in SparseArrays at /Applications/Julia-1.5.app/Contents/Resources/julia/share/julia/stdlib/v1.5/SparseArrays/src/linalg.jl:15\n",
       "[151] +(A::LinearAlgebra.Symmetric, B::SparseArrays.AbstractSparseArray{Tv,Ti,2} where Ti where Tv) in SparseArrays at /Applications/Julia-1.5.app/Contents/Resources/julia/share/julia/stdlib/v1.5/SparseArrays/src/linalg.jl:16\n",
       "[152] +(A::LinearAlgebra.Symmetric{var\"#s828\",var\"#s827\"} where var\"#s827\"<:(SparseArrays.AbstractSparseArray{Tv,Ti,2} where Ti where Tv) where var\"#s828\", B::LinearAlgebra.Hermitian{var\"#s826\",var\"#s825\"} where var\"#s825\"<:(SparseArrays.AbstractSparseArray{Tv,Ti,2} where Ti where Tv) where var\"#s826\") in SparseArrays at /Applications/Julia-1.5.app/Contents/Resources/julia/share/julia/stdlib/v1.5/SparseArrays/src/linalg.jl:21\n",
       "[153] +(A::LinearAlgebra.Hermitian{var\"#s824\",var\"#s823\"} where var\"#s823\"<:(SparseArrays.AbstractSparseArray{Tv,Ti,2} where Ti where Tv) where var\"#s824\", B::LinearAlgebra.Symmetric{var\"#s822\",var\"#s821\"} where var\"#s821\"<:(SparseArrays.AbstractSparseArray{Tv,Ti,2} where Ti where Tv) where var\"#s822\") in SparseArrays at /Applications/Julia-1.5.app/Contents/Resources/julia/share/julia/stdlib/v1.5/SparseArrays/src/linalg.jl:22\n",
       "[154] +(x::AbstractArray{var\"#s91\",N} where N where var\"#s91\"<:Number) in Base at abstractarraymath.jl:97\n",
       "[155] +(A::AbstractArray, B::AbstractArray) in Base at arraymath.jl:37\n",
       "[156] +(x::T, y::Integer) where T<:AbstractChar in Base at char.jl:223\n",
       "[157] +(index1::CartesianIndex{N}, index2::CartesianIndex{N}) where N in Base.IteratorsMD at multidimensional.jl:113\n",
       "[158] +(::Number, ::Missing) in Base at missing.jl:116\n",
       "[159] +(x::P, y::P) where P<:Dates.Period in Dates at /Applications/Julia-1.5.app/Contents/Resources/julia/share/julia/stdlib/v1.5/Dates/src/periods.jl:78\n",
       "[160] +(x::Dates.Period, y::Dates.Period) in Dates at /Applications/Julia-1.5.app/Contents/Resources/julia/share/julia/stdlib/v1.5/Dates/src/periods.jl:344\n",
       "[161] +(y::Dates.Period, x::Dates.CompoundPeriod) in Dates at /Applications/Julia-1.5.app/Contents/Resources/julia/share/julia/stdlib/v1.5/Dates/src/periods.jl:346\n",
       "[162] +(x::Union{Dates.CompoundPeriod, Dates.Period}) in Dates at /Applications/Julia-1.5.app/Contents/Resources/julia/share/julia/stdlib/v1.5/Dates/src/periods.jl:355\n",
       "[163] +(x::Dates.TimeType) in Dates at /Applications/Julia-1.5.app/Contents/Resources/julia/share/julia/stdlib/v1.5/Dates/src/arithmetic.jl:8\n",
       "[164] +(a::Dates.TimeType, b::Dates.Period, c::Dates.Period) in Dates at /Applications/Julia-1.5.app/Contents/Resources/julia/share/julia/stdlib/v1.5/Dates/src/periods.jl:366\n",
       "[165] +(a::Dates.TimeType, b::Dates.Period, c::Dates.Period, d::Dates.Period...) in Dates at /Applications/Julia-1.5.app/Contents/Resources/julia/share/julia/stdlib/v1.5/Dates/src/periods.jl:367\n",
       "[166] +(x::Dates.TimeType, y::Dates.CompoundPeriod) in Dates at /Applications/Julia-1.5.app/Contents/Resources/julia/share/julia/stdlib/v1.5/Dates/src/periods.jl:369\n",
       "[167] +(x::Dates.Instant) in Dates at /Applications/Julia-1.5.app/Contents/Resources/julia/share/julia/stdlib/v1.5/Dates/src/arithmetic.jl:4\n",
       "[168] +(y::Dates.Period, x::Dates.TimeType) in Dates at /Applications/Julia-1.5.app/Contents/Resources/julia/share/julia/stdlib/v1.5/Dates/src/arithmetic.jl:80\n",
       "[169] +(x::Dates.Period, r::AbstractRange{var\"#s828\"} where var\"#s828\"<:Dates.TimeType) in Dates at /Applications/Julia-1.5.app/Contents/Resources/julia/share/julia/stdlib/v1.5/Dates/src/ranges.jl:58\n",
       "[170] +(x::AbstractArray{var\"#s828\",N} where N where var\"#s828\"<:Dates.TimeType, y::Union{Dates.CompoundPeriod, Dates.Period}) in Dates at /Applications/Julia-1.5.app/Contents/Resources/julia/share/julia/stdlib/v1.5/Dates/src/deprecated.jl:6\n",
       "[171] +(y::Union{Dates.CompoundPeriod, Dates.Period}, x::AbstractArray{var\"#s828\",N} where N where var\"#s828\"<:Dates.TimeType) in Dates at /Applications/Julia-1.5.app/Contents/Resources/julia/share/julia/stdlib/v1.5/Dates/src/deprecated.jl:14\n",
       "[172] +(y::Dates.TimeType, x::StridedArray{var\"#s828\", N} where N where var\"#s828\"<:Union{Dates.CompoundPeriod, Dates.Period}) in Dates at /Applications/Julia-1.5.app/Contents/Resources/julia/share/julia/stdlib/v1.5/Dates/src/deprecated.jl:18\n",
       "[173] +(J::LinearAlgebra.UniformScaling, x::Number) in LinearAlgebra at /Applications/Julia-1.5.app/Contents/Resources/julia/share/julia/stdlib/v1.5/LinearAlgebra/src/uniformscaling.jl:111\n",
       "[174] +(x::Number, J::LinearAlgebra.UniformScaling) in LinearAlgebra at /Applications/Julia-1.5.app/Contents/Resources/julia/share/julia/stdlib/v1.5/LinearAlgebra/src/uniformscaling.jl:112\n",
       "[175] +(J1::LinearAlgebra.UniformScaling, J2::LinearAlgebra.UniformScaling) in LinearAlgebra at /Applications/Julia-1.5.app/Contents/Resources/julia/share/julia/stdlib/v1.5/LinearAlgebra/src/uniformscaling.jl:116\n",
       "[176] +(J::LinearAlgebra.UniformScaling, B::BitArray{2}) in LinearAlgebra at /Applications/Julia-1.5.app/Contents/Resources/julia/share/julia/stdlib/v1.5/LinearAlgebra/src/uniformscaling.jl:118\n",
       "[177] +(A::LinearAlgebra.UniformScaling, B::LinearAlgebra.Tridiagonal{var\"#s828\",V} where V<:AbstractArray{var\"#s828\",1} where var\"#s828\"<:Number) in LinearAlgebra at /Applications/Julia-1.5.app/Contents/Resources/julia/share/julia/stdlib/v1.5/LinearAlgebra/src/special.jl:245\n",
       "[178] +(A::LinearAlgebra.UniformScaling, B::LinearAlgebra.SymTridiagonal{var\"#s828\",V} where V<:AbstractArray{var\"#s828\",1} where var\"#s828\"<:Number) in LinearAlgebra at /Applications/Julia-1.5.app/Contents/Resources/julia/share/julia/stdlib/v1.5/LinearAlgebra/src/special.jl:250\n",
       "[179] +(A::LinearAlgebra.UniformScaling, B::LinearAlgebra.Bidiagonal{var\"#s828\",V} where V<:AbstractArray{var\"#s828\",1} where var\"#s828\"<:Number) in LinearAlgebra at /Applications/Julia-1.5.app/Contents/Resources/julia/share/julia/stdlib/v1.5/LinearAlgebra/src/special.jl:255\n",
       "[180] +(A::LinearAlgebra.UniformScaling, B::LinearAlgebra.Diagonal{var\"#s828\",V} where V<:AbstractArray{var\"#s828\",1} where var\"#s828\"<:Number) in LinearAlgebra at /Applications/Julia-1.5.app/Contents/Resources/julia/share/julia/stdlib/v1.5/LinearAlgebra/src/special.jl:260\n",
       "[181] +(J::LinearAlgebra.UniformScaling, A::AbstractArray{T,2} where T) in LinearAlgebra at /Applications/Julia-1.5.app/Contents/Resources/julia/share/julia/stdlib/v1.5/LinearAlgebra/src/uniformscaling.jl:119\n",
       "[182] +(F::LinearAlgebra.Hessenberg, J::LinearAlgebra.UniformScaling) in LinearAlgebra at /Applications/Julia-1.5.app/Contents/Resources/julia/share/julia/stdlib/v1.5/LinearAlgebra/src/hessenberg.jl:559\n",
       "[183] +(J::LinearAlgebra.UniformScaling, F::LinearAlgebra.Hessenberg) in LinearAlgebra at /Applications/Julia-1.5.app/Contents/Resources/julia/share/julia/stdlib/v1.5/LinearAlgebra/src/hessenberg.jl:560\n",
       "[184] +(a, b, c, xs...) in Base at operators.jl:538"
      ]
     },
     "execution_count": 9,
     "metadata": {},
     "output_type": "execute_result"
    }
   ],
   "source": [
    "methods(+)"
   ]
  },
  {
   "cell_type": "markdown",
   "metadata": {
    "slideshow": {
     "slide_type": "slide"
    }
   },
   "source": [
    "# Why Julia?"
   ]
  },
  {
   "cell_type": "markdown",
   "metadata": {
    "slideshow": {
     "slide_type": "subslide"
    }
   },
   "source": [
    "## What happens when you use Julia?\n",
    "\n",
    "A. Edelman 🤓 🦄  🌈\n",
    "> What happens when you start to go down this rabbit hole is you become programmer, something for when you used these other languages you never knew you were missing, and never knew you wanted to be.\n",
    "> But then when you do it, you wonder how you lived without it.\n",
    "\n",
    "From a different view point check out the [Reddit post](https://www.reddit.com/r/Julia/comments/j1wail/philosophy_behind_julia_i_absolutely_dont_get_it/)\n",
    "\n",
    "> Philosophy behind Julia - I absolutely don't get it - How does one use it?"
   ]
  },
  {
   "cell_type": "markdown",
   "metadata": {
    "slideshow": {
     "slide_type": "subslide"
    }
   },
   "source": [
    "## Julia is fast\n",
    "\n",
    "![julia_bench.svg](julia_bench.svg)"
   ]
  },
  {
   "cell_type": "markdown",
   "metadata": {
    "slideshow": {
     "slide_type": "subslide"
    }
   },
   "source": [
    "## Great packages already exist 🌟\n",
    "\n",
    "[Intro Julia for Data Science and Scientific Computing](http://ucidatascienceinitiative.github.io/IntroToJulia/)\n",
    "\n",
    "[Top list of packages](https://juliaobserver.com/packages)\n",
    "\n",
    "- Machine Learning [MLJ.jl](https://alan-turing-institute.github.io/MLJ.jl/stable/)\n",
    "- Neural Networks / Deep [Flux.jl](https://fluxml.ai/Flux.jl/stable/)\n",
    "- Bayesian inference [Turing.jl](https://turing.ml/dev/docs/using-turing/)\n",
    "- Optimization [JuMP.jl](https://jump.dev/JuMP.jl/stable/)\n",
    "- Data frames [DataFrames.jl](https://dataframes.juliadata.org/stable/)"
   ]
  },
  {
   "cell_type": "markdown",
   "metadata": {
    "slideshow": {
     "slide_type": "subslide"
    }
   },
   "source": [
    "## Great community 🤓\n",
    "\n",
    "~~StackOverflow~~ [Julia Discourse](https://discourse.julialang.org/)\n",
    "\n",
    "![julia_usage.svg](julia_usage.png)"
   ]
  },
  {
   "cell_type": "markdown",
   "metadata": {
    "slideshow": {
     "slide_type": "subslide"
    }
   },
   "source": [
    "## Julia is not fully mature yet 😅\n",
    "\n",
    "Still many projects that are\n",
    "\n",
    "- underdocumented\n",
    "- not really maintained\n",
    "- outdated (julia < 1.0)"
   ]
  },
  {
   "cell_type": "markdown",
   "metadata": {
    "slideshow": {
     "slide_type": "subslide"
    }
   },
   "source": [
    "## [Interoperability](https://github.com/JuliaInterop)\n",
    "\n",
    "**You can reuse on your own codes!**\n",
    "\n",
    "- [MATLAB.jl](https://github.com/JuliaInterop/MATLAB.jl)\n",
    "- [PyCall.jl](https://github.com/JuliaPy/PyCall.jl)\n",
    "- [RCall.jl](https://juliainterop.github.io/RCall.jl/stable/)\n",
    "- C++\n",
    "- Mathematica\n",
    "- Fortran\n",
    "- ...\n",
    "\n",
    "----------\n",
    "\n",
    "Julia in Python?\n",
    "\n",
    "[pyjulia](https://github.com/JuliaPy/pyjulia)"
   ]
  },
  {
   "cell_type": "markdown",
   "metadata": {
    "slideshow": {
     "slide_type": "slide"
    }
   },
   "source": [
    "# Some Julia code examples"
   ]
  },
  {
   "cell_type": "markdown",
   "metadata": {
    "slideshow": {
     "slide_type": "subslide"
    }
   },
   "source": [
    "## Syntax\n",
    "\n",
    "Coming from an other programming language\n",
    "\n",
    "[MATLAB–Python–Julia cheatsheet](https://cheatsheets.quantecon.org/)\n",
    "\n",
    "MATLAB users:\n",
    "\n",
    "```matlab\n",
    "A(i, j) -> A[i, j]\n",
    "x(end) -> x[end]\n",
    "```\n",
    "\n",
    "Python users:\n",
    "\n",
    "```python\n",
    "x[0] -> x[1]\n",
    "```\n",
    "\n",
    "R users: [Julia-Python-R cheatsheet](https://data1050.github.io/docs/cheatsheets/jpr-cheatsheet.pdf)\n"
   ]
  },
  {
   "cell_type": "markdown",
   "metadata": {
    "slideshow": {
     "slide_type": "subslide"
    }
   },
   "source": [
    "## What I like"
   ]
  },
  {
   "cell_type": "markdown",
   "metadata": {
    "slideshow": {
     "slide_type": "fragment"
    }
   },
   "source": [
    "Maths friendly 🤓"
   ]
  },
  {
   "cell_type": "code",
   "execution_count": 10,
   "metadata": {
    "slideshow": {
     "slide_type": "fragment"
    }
   },
   "outputs": [
    {
     "data": {
      "text/plain": [
       "true"
      ]
     },
     "execution_count": 10,
     "metadata": {},
     "output_type": "execute_result"
    }
   ],
   "source": [
    "1 in [1, 4, 5]\n",
    "1 ∈ [1, 4, 5]"
   ]
  },
  {
   "cell_type": "code",
   "execution_count": 11,
   "metadata": {
    "scrolled": true,
    "slideshow": {
     "slide_type": "fragment"
    }
   },
   "outputs": [
    {
     "data": {
      "text/plain": [
       "4"
      ]
     },
     "execution_count": 11,
     "metadata": {},
     "output_type": "execute_result"
    }
   ],
   "source": [
    "P(x) = 2x^2 + 3x - 1\n",
    "P(1)"
   ]
  },
  {
   "cell_type": "code",
   "execution_count": 12,
   "metadata": {
    "slideshow": {
     "slide_type": "fragment"
    }
   },
   "outputs": [
    {
     "data": {
      "text/plain": [
       "0.2689414213699951"
      ]
     },
     "execution_count": 12,
     "metadata": {},
     "output_type": "execute_result"
    }
   ],
   "source": [
    "σ(x) = 1 / (1 + exp(x))\n",
    "σ(1)"
   ]
  },
  {
   "cell_type": "code",
   "execution_count": 13,
   "metadata": {
    "slideshow": {
     "slide_type": "fragment"
    }
   },
   "outputs": [
    {
     "data": {
      "text/plain": [
       "4×4 Array{Int64,2}:\n",
       " 1  2  0  0\n",
       " 3  4  0  0\n",
       " 0  0  1  2\n",
       " 0  0  3  4"
      ]
     },
     "execution_count": 13,
     "metadata": {},
     "output_type": "execute_result"
    }
   ],
   "source": [
    "using LinearAlgebra\n",
    "\n",
    "⊗(x, y) = kron(x, y)\n",
    "\n",
    "A = [1 2; 3 4]\n",
    "I₂ = I(2)\n",
    "\n",
    "I₂ ⊗ A"
   ]
  },
  {
   "cell_type": "code",
   "execution_count": 14,
   "metadata": {
    "slideshow": {
     "slide_type": "fragment"
    }
   },
   "outputs": [
    {
     "data": {
      "text/plain": [
       "0.0"
      ]
     },
     "execution_count": 14,
     "metadata": {},
     "output_type": "execute_result"
    }
   ],
   "source": [
    "A = [1 4\n",
    "     1 4]\n",
    "λ = 5\n",
    "det(A - λ*I)"
   ]
  },
  {
   "cell_type": "markdown",
   "metadata": {
    "slideshow": {
     "slide_type": "fragment"
    }
   },
   "source": [
    "Pointwise evaluation"
   ]
  },
  {
   "cell_type": "code",
   "execution_count": 15,
   "metadata": {
    "slideshow": {
     "slide_type": "fragment"
    }
   },
   "outputs": [
    {
     "data": {
      "text/plain": [
       "3-element Array{Float64,1}:\n",
       " 0.2689414213699951\n",
       " 0.04742587317756678\n",
       " 0.01798620996209156"
      ]
     },
     "execution_count": 15,
     "metadata": {},
     "output_type": "execute_result"
    }
   ],
   "source": [
    "# σ([1, 3, 4]) won't work\n",
    "σ.([1, 3, 4])"
   ]
  },
  {
   "cell_type": "code",
   "execution_count": 16,
   "metadata": {
    "slideshow": {
     "slide_type": "fragment"
    }
   },
   "outputs": [
    {
     "data": {
      "text/plain": [
       "3-element Array{Float64,1}:\n",
       " 0.2689414213699951\n",
       " 0.04742587317756678\n",
       " 0.01798620996209156"
      ]
     },
     "execution_count": 16,
     "metadata": {},
     "output_type": "execute_result"
    }
   ],
   "source": [
    "σ₁(x) = 1 ./ (1 .+ exp.(x))\n",
    "σ₁([1, 3, 4])"
   ]
  },
  {
   "cell_type": "code",
   "execution_count": 17,
   "metadata": {
    "slideshow": {
     "slide_type": "fragment"
    }
   },
   "outputs": [
    {
     "data": {
      "text/plain": [
       "3-element Array{Float64,1}:\n",
       " 0.2689414213699951\n",
       " 0.04742587317756678\n",
       " 0.01798620996209156"
      ]
     },
     "execution_count": 17,
     "metadata": {},
     "output_type": "execute_result"
    }
   ],
   "source": [
    "σ₂(x) = @. 1 / (1 + exp(x))\n",
    "σ₂([1, 3, 4])"
   ]
  },
  {
   "cell_type": "markdown",
   "metadata": {},
   "source": [
    "In place transformations are explicit (`!`)"
   ]
  },
  {
   "cell_type": "code",
   "execution_count": 18,
   "metadata": {},
   "outputs": [
    {
     "data": {
      "text/plain": [
       "5-element Array{Float64,1}:\n",
       " 4.0\n",
       " 4.0\n",
       " 4.0\n",
       " 4.0\n",
       " 4.0"
      ]
     },
     "execution_count": 18,
     "metadata": {},
     "output_type": "execute_result"
    }
   ],
   "source": [
    "x = zeros(5)\n",
    "fill!(x, 4)\n",
    "x"
   ]
  },
  {
   "cell_type": "code",
   "execution_count": 19,
   "metadata": {},
   "outputs": [
    {
     "data": {
      "text/plain": [
       "5-element Array{Float64,1}:\n",
       " 0.23067559345531286\n",
       " 0.39713913005612667\n",
       " 0.48373748723176124\n",
       " 0.8559065298979898\n",
       " 0.9835702467801051"
      ]
     },
     "execution_count": 19,
     "metadata": {},
     "output_type": "execute_result"
    }
   ],
   "source": [
    "x = rand(5)\n",
    "sort!(x)\n",
    "x"
   ]
  },
  {
   "cell_type": "markdown",
   "metadata": {
    "slideshow": {
     "slide_type": "fragment"
    }
   },
   "source": [
    "I'm not affraid of for loops anymore 😇 they're fast and beautiful!"
   ]
  },
  {
   "cell_type": "code",
   "execution_count": 20,
   "metadata": {
    "slideshow": {
     "slide_type": "fragment"
    }
   },
   "outputs": [
    {
     "data": {
      "text/plain": [
       "3×4 Array{Int64,2}:\n",
       " 1  1  1   1\n",
       " 1  2  3   4\n",
       " 1  4  9  16"
      ]
     },
     "execution_count": 20,
     "metadata": {},
     "output_type": "execute_result"
    }
   ],
   "source": [
    "n, m = 3, 4\n",
    "A = zeros(Int, n, m)\n",
    "\n",
    "for i in 1:n, j in 1:m\n",
    "    A[i, j] = j^(i-1)\n",
    "end\n",
    "\n",
    "A"
   ]
  },
  {
   "cell_type": "code",
   "execution_count": 21,
   "metadata": {
    "slideshow": {
     "slide_type": "fragment"
    }
   },
   "outputs": [
    {
     "data": {
      "text/plain": [
       "3×4 Array{Int64,2}:\n",
       " 1  2  3  4\n",
       " 1  2  3  4\n",
       " 1  2  3  4"
      ]
     },
     "execution_count": 21,
     "metadata": {},
     "output_type": "execute_result"
    }
   ],
   "source": [
    "for (j, aⱼ) in enumerate(eachcol(A))\n",
    "    aⱼ .= j\n",
    "end\n",
    "A"
   ]
  },
  {
   "cell_type": "markdown",
   "metadata": {
    "slideshow": {
     "slide_type": "fragment"
    }
   },
   "source": [
    "You can have fun with unicode 🙃"
   ]
  },
  {
   "cell_type": "code",
   "execution_count": 22,
   "metadata": {
    "scrolled": true,
    "slideshow": {
     "slide_type": "fragment"
    }
   },
   "outputs": [
    {
     "data": {
      "text/plain": [
       "\"nerdnerd\""
      ]
     },
     "execution_count": 22,
     "metadata": {},
     "output_type": "execute_result"
    }
   ],
   "source": [
    "🤓 = \"nerd\"\n",
    "🤓^2"
   ]
  },
  {
   "cell_type": "markdown",
   "metadata": {
    "slideshow": {
     "slide_type": "subslide"
    }
   },
   "source": [
    "## Interoperability"
   ]
  },
  {
   "cell_type": "markdown",
   "metadata": {
    "slideshow": {
     "slide_type": "fragment"
    }
   },
   "source": [
    "Mixing Julia with MATLAB, Python and R 👌"
   ]
  },
  {
   "cell_type": "code",
   "execution_count": 23,
   "metadata": {
    "slideshow": {
     "slide_type": "fragment"
    }
   },
   "outputs": [
    {
     "data": {
      "image/png": "[encoded data removed]"
     },
     "metadata": {},
     "output_type": "display_data"
    },
    {
     "data": {
      "text/plain": [
       "RObject{NilSxp}\n",
       "NULL\n"
      ]
     },
     "execution_count": 23,
     "metadata": {},
     "output_type": "execute_result"
    }
   ],
   "source": [
    "using MATLAB, PyCall, RCall\n",
    "\n",
    "mat\"[$x, $y] = titanium\"\n",
    "\n",
    "interpolate = pyimport(\"scipy.interpolate\")\n",
    "f = interpolate.interp1d(vec(x), vec(y), kind=\"cubic\")\n",
    "new_x = LinRange(first(x), last(x), 1000)\n",
    "\n",
    "R\"\"\"\n",
    "plot($x, $y)\n",
    "lines($new_x, $(f(new_x)))\n",
    "\"\"\""
   ]
  },
  {
   "cell_type": "markdown",
   "metadata": {
    "slideshow": {
     "slide_type": "fragment"
    }
   },
   "source": [
    "Calling [DPPy](https://github.com/guilgautier/DPPy)\n",
    "\n",
    "\n",
    "```bash\n",
    "$ pip install dppy\n",
    "```"
   ]
  },
  {
   "cell_type": "code",
   "execution_count": 24,
   "metadata": {
    "slideshow": {
     "slide_type": "fragment"
    }
   },
   "outputs": [
    {
     "data": {
      "text/plain": [
       "1-element Array{Int64,1}:\n",
       " 1"
      ]
     },
     "execution_count": 24,
     "metadata": {},
     "output_type": "execute_result"
    }
   ],
   "source": [
    "using PyCall\n",
    "FiniteDPP = pyimport(\"dppy.finite_dpps\")[:FiniteDPP]\n",
    "\n",
    "Φ = rand(5, 4)\n",
    "L = Φ'*Φ\n",
    "\n",
    "dpp = FiniteDPP(\"likelihood\", projection=false, L=L)\n",
    "dpp.sample_exact()"
   ]
  },
  {
   "cell_type": "markdown",
   "metadata": {
    "slideshow": {
     "slide_type": "subslide"
    }
   },
   "source": [
    "## ScikitLearn in Julia\n",
    "\n",
    "[ScikitLearn.jl](https://github.com/cstjean/ScikitLearn.jl) is a kind of \"wrapper\" for Python's `sklearn` package. [Blog post](https://medium.com/analytics-vidhya/machine-learning-with-julia-scikitlearn-jl-7c8cfe6076e8).\n",
    "\n",
    "See also, [MLJ.jl](https://alan-turing-institute.github.io/MLJ.jl/dev/) from the Alan Turing Institute."
   ]
  },
  {
   "cell_type": "code",
   "execution_count": 25,
   "metadata": {
    "slideshow": {
     "slide_type": "fragment"
    }
   },
   "outputs": [
    {
     "data": {
      "text/plain": [
       "150-element Array{String,1}:\n",
       " \"setosa\"\n",
       " \"setosa\"\n",
       " \"setosa\"\n",
       " \"setosa\"\n",
       " \"setosa\"\n",
       " \"setosa\"\n",
       " \"setosa\"\n",
       " \"setosa\"\n",
       " \"setosa\"\n",
       " \"setosa\"\n",
       " \"setosa\"\n",
       " \"setosa\"\n",
       " \"setosa\"\n",
       " ⋮\n",
       " \"virginica\"\n",
       " \"virginica\"\n",
       " \"virginica\"\n",
       " \"virginica\"\n",
       " \"virginica\"\n",
       " \"virginica\"\n",
       " \"virginica\"\n",
       " \"virginica\"\n",
       " \"virginica\"\n",
       " \"virginica\"\n",
       " \"virginica\"\n",
       " \"virginica\""
      ]
     },
     "execution_count": 25,
     "metadata": {},
     "output_type": "execute_result"
    }
   ],
   "source": [
    "using RDatasets: dataset\n",
    "\n",
    "iris = dataset(\"datasets\", \"iris\");\n",
    "\n",
    "X = convert(Array, \n",
    "            iris[!, [:SepalLength, :SepalWidth, :PetalLength, :PetalWidth]])\n",
    "y = convert(Array, \n",
    "            iris[!, :Species])"
   ]
  },
  {
   "cell_type": "code",
   "execution_count": 26,
   "metadata": {
    "slideshow": {
     "slide_type": "fragment"
    }
   },
   "outputs": [
    {
     "data": {
      "text/plain": [
       "0.9733333333333334"
      ]
     },
     "execution_count": 26,
     "metadata": {},
     "output_type": "execute_result"
    }
   ],
   "source": [
    "using ScikitLearn\n",
    "@sk_import linear_model: LogisticRegression\n",
    "\n",
    "model = LogisticRegression(fit_intercept=true, max_iter=200)\n",
    "\n",
    "fit!(model, X, y)\n",
    "score(model, X, y)"
   ]
  },
  {
   "cell_type": "markdown",
   "metadata": {
    "slideshow": {
     "slide_type": "skip"
    }
   },
   "source": [
    "## Julia OOP"
   ]
  },
  {
   "cell_type": "code",
   "execution_count": 27,
   "metadata": {
    "slideshow": {
     "slide_type": "skip"
    }
   },
   "outputs": [
    {
     "ename": "LoadError",
     "evalue": "invalid redefinition of constant Cat",
     "output_type": "error",
     "traceback": [
      "invalid redefinition of constant Cat",
      "",
      "Stacktrace:",
      " [1] top-level scope at In[27]:1",
      " [2] include_string(::Function, ::Module, ::String, ::String) at ./loading.jl:1091"
     ]
    }
   ],
   "source": [
    "struct Cat end\n",
    "struct Dog end\n",
    "\n",
    "speak(::Cat) = println(\"Meow\")\n",
    "speak(::Dog) = println(\"Woof\")\n",
    "\n",
    "speak(Cat())"
   ]
  },
  {
   "cell_type": "markdown",
   "metadata": {
    "slideshow": {
     "slide_type": "skip"
    }
   },
   "source": [
    "Observe the difference with Python"
   ]
  },
  {
   "cell_type": "markdown",
   "metadata": {
    "slideshow": {
     "slide_type": "skip"
    }
   },
   "source": [
    "```python\n",
    "class Cat:\n",
    "    def speak(self):\n",
    "        print(\"Meow\")\n",
    "\n",
    "class Dog:\n",
    "    def speak(self):\n",
    "        print(\"Woof\")\n",
    "\n",
    "def speak(pet):\n",
    "    pet.speak()\n",
    "```"
   ]
  },
  {
   "cell_type": "markdown",
   "metadata": {
    "slideshow": {
     "slide_type": "subslide"
    }
   },
   "source": [
    "## Benchmarking"
   ]
  },
  {
   "cell_type": "code",
   "execution_count": 28,
   "metadata": {
    "slideshow": {
     "slide_type": "fragment"
    }
   },
   "outputs": [
    {
     "data": {
      "text/plain": [
       "BenchmarkTools.Trial: \n",
       "  memory estimate:  78.20 KiB\n",
       "  allocs estimate:  2\n",
       "  --------------\n",
       "  minimum time:     103.216 μs (0.00% GC)\n",
       "  median time:      108.281 μs (0.00% GC)\n",
       "  mean time:        155.595 μs (8.03% GC)\n",
       "  maximum time:     11.944 ms (98.02% GC)\n",
       "  --------------\n",
       "  samples:          10000\n",
       "  evals/sample:     1"
      ]
     },
     "execution_count": 28,
     "metadata": {},
     "output_type": "execute_result"
    }
   ],
   "source": [
    "using BenchmarkTools\n",
    "σ(x) = 1 / (1 + exp(x))\n",
    "\n",
    "X = rand(10_000)\n",
    "@benchmark σ.($X)"
   ]
  },
  {
   "cell_type": "markdown",
   "metadata": {
    "slideshow": {
     "slide_type": "subslide"
    }
   },
   "source": [
    "## Parallel computing\n",
    "\n",
    "Pretty simple\n",
    "- [Julia documentation](https://docs.julialang.org/en/v1/manual/multi-threading/)\n",
    "- Nice [blog post](https://techytok.com/lesson-parallel-computing/)"
   ]
  },
  {
   "cell_type": "code",
   "execution_count": 29,
   "metadata": {
    "slideshow": {
     "slide_type": "fragment"
    }
   },
   "outputs": [
    {
     "name": "stdout",
     "output_type": "stream",
     "text": [
      "  1.278 ms (48980 allocations: 921.58 KiB)\n"
     ]
    }
   ],
   "source": [
    "x = rand(10_000)\n",
    "results = similar(x)\n",
    "@btime for i in 1:length(x)\n",
    "    results[i] = x[i]^2\n",
    "end"
   ]
  },
  {
   "cell_type": "code",
   "execution_count": 30,
   "metadata": {
    "slideshow": {
     "slide_type": "fragment"
    }
   },
   "outputs": [
    {
     "data": {
      "text/plain": [
       "4"
      ]
     },
     "execution_count": 30,
     "metadata": {},
     "output_type": "execute_result"
    }
   ],
   "source": [
    "# Threads is in standard library\n",
    "Threads.nthreads()"
   ]
  },
  {
   "cell_type": "code",
   "execution_count": 31,
   "metadata": {
    "slideshow": {
     "slide_type": "fragment"
    }
   },
   "outputs": [
    {
     "name": "stdout",
     "output_type": "stream",
     "text": [
      "  436.263 μs (39001 allocations: 611.88 KiB)\n"
     ]
    }
   ],
   "source": [
    "x = rand(10_000)\n",
    "results = similar(x)\n",
    "@btime begin\n",
    "    Threads.@threads for i in 1:length(x)\n",
    "        results[i] = x[i]^2\n",
    "    end\n",
    "end"
   ]
  },
  {
   "cell_type": "markdown",
   "metadata": {
    "slideshow": {
     "slide_type": "fragment"
    }
   },
   "source": [
    "When working on a cluster, consider using"
   ]
  },
  {
   "cell_type": "code",
   "execution_count": 32,
   "metadata": {
    "slideshow": {
     "slide_type": "fragment"
    }
   },
   "outputs": [
    {
     "ename": "LoadError",
     "evalue": "TaskFailedException:\ncannot define function f; it already has a value\nStacktrace:\n [1] top-level scope at none:0\n [2] top-level scope at none:1\n [3] eval at ./boot.jl:331 [inlined]\n [4] (::Distributed.var\"#155#156\"{Module,Expr})() at ./task.jl:356",
     "output_type": "error",
     "traceback": [
      "TaskFailedException:\ncannot define function f; it already has a value\nStacktrace:\n [1] top-level scope at none:0\n [2] top-level scope at none:1\n [3] eval at ./boot.jl:331 [inlined]\n [4] (::Distributed.var\"#155#156\"{Module,Expr})() at ./task.jl:356",
      "",
      "Stacktrace:",
      " [1] sync_end(::Channel{Any}) at ./task.jl:314",
      " [2] macro expansion at ./task.jl:333 [inlined]",
      " [3] remotecall_eval(::Module, ::Array{Int64,1}, ::Expr) at /Users/julia/buildbot/worker/package_macos64/build/usr/share/julia/stdlib/v1.5/Distributed/src/macros.jl:218",
      " [4] top-level scope at /Users/julia/buildbot/worker/package_macos64/build/usr/share/julia/stdlib/v1.5/Distributed/src/macros.jl:202",
      " [5] include_string(::Function, ::Module, ::String, ::String) at ./loading.jl:1091"
     ]
    }
   ],
   "source": [
    "# using BenchmarkTools\n",
    "using Distributed\n",
    "addprocs(4)\n",
    "\n",
    "@everywhere x = rand(100)\n",
    "@everywhere f(x) = x^2\n",
    "\n",
    "@btime pmap(f, x);"
   ]
  },
  {
   "cell_type": "markdown",
   "metadata": {
    "slideshow": {
     "slide_type": "slide"
    }
   },
   "source": [
    "# Reproducible research workflow"
   ]
  },
  {
   "cell_type": "markdown",
   "metadata": {
    "slideshow": {
     "slide_type": "subslide"
    }
   },
   "source": [
    "## Pipeline\n",
    "\n",
    "- Autoreload code: [Revise.jl](https://timholy.github.io/Revise.jl/stable/)\n",
    "\n",
    "- Create packages: [PkgTemplates.jl](https://invenia.github.io/PkgTemplates.jl/stable/)\n",
    "\n",
    "- Managing packages: [Pkg.jl](https://julialang.github.io/Pkg.jl/v1/)\n",
    "\n",
    "- Testing: [Test](https://docs.julialang.org/en/v1/stdlib/Test/)\n",
    "\n",
    "- Documentation: [Documenter.jl](https://juliadocs.github.io/Documenter.jl/stable/)\n",
    "\n",
    "- Continuous integration\n",
    "  - [GitHubActions](https://docs.github.com/en/actions)\n",
    "  - [Travis](https://github.com/travis-ci/docs-travis-ci-com/blob/master/user/languages/julia.md)\n",
    "  - [Code coverage](https://github.com/JuliaCI/Coverage.jl): Codecov, Coveralls; integrates smoothly with Travis\n",
    "\n",
    "- Benchmarking: [BenchmarkTools.jl](https://github.com/JuliaCI/BenchmarkTools.jl)"
   ]
  },
  {
   "cell_type": "markdown",
   "metadata": {
    "slideshow": {
     "slide_type": "subslide"
    }
   },
   "source": [
    "## Package creation: a simple example\n",
    "\n",
    "```julia\n",
    "using PkgTemplates\n",
    "t = Template(; user=\"github_user_name\")\n",
    "t(\"MyNewPackage\")\n",
    "```"
   ]
  },
  {
   "cell_type": "markdown",
   "metadata": {
    "slideshow": {
     "slide_type": "slide"
    }
   },
   "source": [
    "# Take home message"
   ]
  },
  {
   "cell_type": "markdown",
   "metadata": {
    "slideshow": {
     "slide_type": "subslide"
    }
   },
   "source": [
    "## [Julia](https://julialang.org/) is\n",
    "\n",
    "- **Easy to learn**\n",
    "- **Quick and easy to develop in**\n",
    "- **Runs like C but reads like Python/MATLAB**\n",
    "\n",
    "> Culture of discipline about generic types and functions and abstraction\n",
    "\n",
    "```julia\n",
    "julia> Julia > Python > MATLAB\n",
    "true\n",
    "```"
   ]
  },
  {
   "cell_type": "markdown",
   "metadata": {
    "slideshow": {
     "slide_type": "subslide"
    }
   },
   "source": [
    "## Some ressources to get started\n",
    "\n",
    "- All the links already given 🙃\n",
    "- [Official documentation](https://docs.julialang.org/en/v1/)\n",
    "- [Youtube Julia tutorials](https://www.youtube.com/playlist?list=PLP8iPy9hna6SCcFv3FvY_qjAmtTsNYHQE)\n",
    "- [QuantEcon's Julia page](https://julia.quantecon.org/index_toc.html)\n"
   ]
  }
 ],
 "metadata": {
  "celltoolbar": "Diaporama",
  "kernelspec": {
   "display_name": "Julia 1.5.2",
   "language": "julia",
   "name": "julia-1.5"
  },
  "language_info": {
   "file_extension": ".jl",
   "mimetype": "application/julia",
   "name": "julia",
   "version": "1.5.2"
  },
  "toc": {
   "base_numbering": 1,
   "nav_menu": {},
   "number_sections": true,
   "sideBar": true,
   "skip_h1_title": false,
   "title_cell": "Table of Contents",
   "title_sidebar": "Contents",
   "toc_cell": false,
   "toc_position": {
    "height": "calc(100% - 180px)",
    "left": "10px",
    "top": "150px",
    "width": "256px"
   },
   "toc_section_display": true,
   "toc_window_display": true
  }
 },
 "nbformat": 4,
 "nbformat_minor": 4
}
